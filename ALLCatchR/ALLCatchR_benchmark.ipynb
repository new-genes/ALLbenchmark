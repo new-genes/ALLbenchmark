{
 "cells": [
  {
   "cell_type": "code",
   "execution_count": 1,
   "id": "1d3b7e67-08ea-457b-8098-67f0d3db950f",
   "metadata": {},
   "outputs": [
    {
     "ename": "ERROR",
     "evalue": "Error in library(ALLCatchR): ‘ALLCatchR’이라고 불리는 패키지가 없습니다\n",
     "output_type": "error",
     "traceback": [
      "Error in library(ALLCatchR): ‘ALLCatchR’이라고 불리는 패키지가 없습니다\nTraceback:\n",
      "1. library(ALLCatchR)"
     ]
    }
   ],
   "source": [
    "library(ALLCatchR)\n",
    "allcatch()"
   ]
  },
  {
   "cell_type": "code",
   "execution_count": null,
   "id": "de14932a-3b4e-4c7e-add0-05cfc27864ca",
   "metadata": {},
   "outputs": [],
   "source": []
  }
 ],
 "metadata": {
  "kernelspec": {
   "display_name": "R",
   "language": "R",
   "name": "r"
  },
  "language_info": {
   "codemirror_mode": "r",
   "file_extension": ".r",
   "mimetype": "text/x-r-source",
   "name": "R",
   "pygments_lexer": "r",
   "version": "4.3.3"
  }
 },
 "nbformat": 4,
 "nbformat_minor": 5
}
