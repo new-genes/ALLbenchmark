{
 "cells": [
  {
   "cell_type": "code",
   "execution_count": 1,
   "id": "2279cf9b-7f89-41cd-a2b9-0cd8afd513c8",
   "metadata": {},
   "outputs": [],
   "source": [
    "library(Allspice)"
   ]
  },
  {
   "cell_type": "code",
   "execution_count": null,
   "id": "3c112835-34e2-4763-98fe-47028bc15c38",
   "metadata": {},
   "outputs": [],
   "source": []
  }
 ],
 "metadata": {
  "kernelspec": {
   "display_name": "R",
   "language": "R",
   "name": "ir"
  },
  "language_info": {
   "codemirror_mode": "r",
   "file_extension": ".r",
   "mimetype": "text/x-r-source",
   "name": "R",
   "pygments_lexer": "r",
   "version": "4.3.3"
  }
 },
 "nbformat": 4,
 "nbformat_minor": 5
}
