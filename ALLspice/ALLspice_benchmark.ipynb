{
 "cells": [
  {
   "cell_type": "markdown",
   "id": "9b5f9e9a",
   "metadata": {},
   "source": [
    "# 1 Getting started"
   ]
  },
  {
   "cell_type": "code",
   "execution_count": 15,
   "id": "709478d0",
   "metadata": {
    "vscode": {
     "languageId": "r"
    }
   },
   "outputs": [
    {
     "name": "stderr",
     "output_type": "stream",
     "text": [
      "'.Library'내 HTML 패키지 목록을 업데이트 하고 있습니다\n",
      "\n",
      "Making 'packages.html' ...\n",
      " 완료\n",
      "\n"
     ]
    }
   ],
   "source": [
    "# Install the package from a remote repository.\n",
    "install.packages(\"Allspice\")"
   ]
  },
  {
   "cell_type": "code",
   "execution_count": 16,
   "id": "2279cf9b-7f89-41cd-a2b9-0cd8afd513c8",
   "metadata": {
    "vscode": {
     "languageId": "r"
    }
   },
   "outputs": [],
   "source": [
    "library(Allspice)"
   ]
  },
  {
   "cell_type": "code",
   "execution_count": 17,
   "id": "3c112835-34e2-4763-98fe-47028bc15c38",
   "metadata": {
    "vscode": {
     "languageId": "r"
    }
   },
   "outputs": [
    {
     "data": {
      "text/plain": [
       "[1] ‘1.0.7’"
      ]
     },
     "metadata": {},
     "output_type": "display_data"
    }
   ],
   "source": [
    "packageVersion(\"Allspice\")"
   ]
  },
  {
   "cell_type": "code",
   "execution_count": 18,
   "id": "4580bf11",
   "metadata": {
    "vscode": {
     "languageId": "r"
    }
   },
   "outputs": [
    {
     "data": {
      "text/html": [
       "<style>\n",
       ".list-inline {list-style: none; margin:0; padding: 0}\n",
       ".list-inline>li {display: inline-block}\n",
       ".list-inline>li:not(:last-child)::after {content: \"\\00b7\"; padding: 0 .5ex}\n",
       "</style>\n",
       "<ol class=list-inline><li>'assemble&lt;-'</li><li>'asset'</li><li>'bcellALL'</li><li>'classifier'</li><li>'classify'</li><li>'configuration'</li><li>'configuration&lt;-'</li><li>'covariates&lt;-'</li><li>'export'</li><li>'information'</li><li>'nomenclature&lt;-'</li><li>'normalize'</li><li>'predictions'</li><li>'profiles&lt;-'</li><li>'report'</li><li>'scores'</li><li>'standardize'</li><li>'visuals&lt;-'</li></ol>\n"
      ],
      "text/latex": [
       "\\begin{enumerate*}\n",
       "\\item 'assemble<-'\n",
       "\\item 'asset'\n",
       "\\item 'bcellALL'\n",
       "\\item 'classifier'\n",
       "\\item 'classify'\n",
       "\\item 'configuration'\n",
       "\\item 'configuration<-'\n",
       "\\item 'covariates<-'\n",
       "\\item 'export'\n",
       "\\item 'information'\n",
       "\\item 'nomenclature<-'\n",
       "\\item 'normalize'\n",
       "\\item 'predictions'\n",
       "\\item 'profiles<-'\n",
       "\\item 'report'\n",
       "\\item 'scores'\n",
       "\\item 'standardize'\n",
       "\\item 'visuals<-'\n",
       "\\end{enumerate*}\n"
      ],
      "text/markdown": [
       "1. 'assemble&lt;-'\n",
       "2. 'asset'\n",
       "3. 'bcellALL'\n",
       "4. 'classifier'\n",
       "5. 'classify'\n",
       "6. 'configuration'\n",
       "7. 'configuration&lt;-'\n",
       "8. 'covariates&lt;-'\n",
       "9. 'export'\n",
       "10. 'information'\n",
       "11. 'nomenclature&lt;-'\n",
       "12. 'normalize'\n",
       "13. 'predictions'\n",
       "14. 'profiles&lt;-'\n",
       "15. 'report'\n",
       "16. 'scores'\n",
       "17. 'standardize'\n",
       "18. 'visuals&lt;-'\n",
       "\n",
       "\n"
      ],
      "text/plain": [
       " [1] \"assemble<-\"      \"asset\"           \"bcellALL\"        \"classifier\"     \n",
       " [5] \"classify\"        \"configuration\"   \"configuration<-\" \"covariates<-\"   \n",
       " [9] \"export\"          \"information\"     \"nomenclature<-\"  \"normalize\"      \n",
       "[13] \"predictions\"     \"profiles<-\"      \"report\"          \"scores\"         \n",
       "[17] \"standardize\"     \"visuals<-\"      "
      ]
     },
     "metadata": {},
     "output_type": "display_data"
    }
   ],
   "source": [
    "ls(\"package:Allspice\")"
   ]
  },
  {
   "cell_type": "code",
   "execution_count": 19,
   "id": "29893725",
   "metadata": {
    "vscode": {
     "languageId": "r"
    }
   },
   "outputs": [
    {
     "name": "stderr",
     "output_type": "stream",
     "text": [
      "Warning message in fetch(key):\n",
      "“internal error -3 in R_decompress1”\n",
      "ERROR while rich displaying an object: Error in fetch(key): lazy-load database '/home/hdh1028/miniconda3/envs/ssam/lib/R/library/Allspice/help/Allspice.rdb' is corrupt\n",
      "\n",
      "Traceback:\n",
      "1. tryCatch(withCallingHandlers({\n",
      " .     if (!mime %in% names(repr::mime2repr)) \n",
      " .         stop(\"No repr_* for mimetype \", mime, \" in repr::mime2repr\")\n",
      " .     rpr <- repr::mime2repr[[mime]](obj)\n",
      " .     if (is.null(rpr)) \n",
      " .         return(NULL)\n",
      " .     prepare_content(is.raw(rpr), rpr)\n",
      " . }, error = error_handler), error = outer_handler)\n",
      "2. tryCatchList(expr, classes, parentenv, handlers)\n",
      "3. tryCatchOne(expr, names, parentenv, handlers[[1L]])\n",
      "4. doTryCatch(return(expr), name, parentenv, handler)\n",
      "5. withCallingHandlers({\n",
      " .     if (!mime %in% names(repr::mime2repr)) \n",
      " .         stop(\"No repr_* for mimetype \", mime, \" in repr::mime2repr\")\n",
      " .     rpr <- repr::mime2repr[[mime]](obj)\n",
      " .     if (is.null(rpr)) \n",
      " .         return(NULL)\n",
      " .     prepare_content(is.raw(rpr), rpr)\n",
      " . }, error = error_handler)\n",
      "6. repr::mime2repr[[mime]](obj)\n",
      "7. repr_text.help_files_with_topic(obj)\n",
      "8. repr_help_files_with_topic_generic(obj, Rd2txt)\n",
      "9. get_help_file(file)\n",
      "10. fetch_rd_db(rd_db, basename(file))\n",
      "11. lazyLoadDBexec(filebase, fun)\n",
      "12. fun(environment())\n",
      "13. fetch(key)\n"
     ]
    }
   ],
   "source": [
    "# Access function documentation (not shown in vignette).\n",
    "? Allspice::classifier"
   ]
  },
  {
   "cell_type": "code",
   "execution_count": 20,
   "id": "1f14b3d1",
   "metadata": {
    "vscode": {
     "languageId": "r"
    }
   },
   "outputs": [
    {
     "name": "stdout",
     "output_type": "stream",
     "text": [
      "\n",
      "Asset.assemble.Rd\n"
     ]
    },
    {
     "name": "stderr",
     "output_type": "stream",
     "text": [
      "Warning message:\n",
      "“Asset.assemble(): 14 / 17 categories included.”\n"
     ]
    },
    {
     "name": "stdout",
     "output_type": "stream",
     "text": [
      "              LABEL  PROX   EXCL\n",
      "patient1  Ambiguous 0.782 0.0841\n",
      "patient2  Ambiguous 0.715 0.0336\n",
      "patient3 ETV6.RUNX1 0.997 0.9976\n",
      "patient4      KMT2A 0.990 0.9525\n",
      "patient5  PAX5.p80r 0.913 0.9611\n",
      "\n",
      "Asset.classify.Rd\n",
      "\n",
      "ALL subtype\n",
      "    configuration -> 164 bytes\n",
      "    categories -> 984 bytes\n",
      "    reference -> 335,109 bytes\n",
      "    covariates -> 103 bytes\n",
      "    nomenclature -> 325,618 bytes\n",
      "    centroids -> 15,212 bytes\n",
      "    coefficients -> 3,150 bytes\n"
     ]
    },
    {
     "name": "stderr",
     "output_type": "stream",
     "text": [
      "Warning message:\n",
      "“Asset.standardize(): 5806 / 5808 usable variables.”\n",
      "Warning message in standardize(obj, dat = dat, trim = TRUE):\n",
      "“NaN이 생성되었습니다”\n",
      "Warning message:\n",
      "“Asset.standardize(): 125 / 225 values imputed.”\n",
      "Warning message:\n",
      "“Asset.standardize(): 41 / 45 usable variables.”\n"
     ]
    },
    {
     "name": "stdout",
     "output_type": "stream",
     "text": [
      "                LABEL     PROX  EXCL\n",
      "patient1 Unclassified 5.45e-08 0.306\n",
      "patient2 Unclassified 9.54e-07 0.141\n",
      "patient3 Unclassified 1.14e-03 0.114\n",
      "patient4 Unclassified 5.85e-05 0.542\n",
      "patient5 Unclassified 1.62e-07 0.158\n",
      "\n",
      "Asset.configuration.Rd\n",
      "           norm     nonzero.min   nonzero.ratio        standard       logarithm \n",
      "           1.00          100.00            0.01            1.00            1.00 \n",
      "     ninput.max     rrinput.max   proximity.min exclusivity.min \n",
      "          20.00            0.36            0.50            0.50 \n",
      "           norm     nonzero.min   nonzero.ratio        standard       logarithm \n",
      "           1.00            0.00            0.00            1.00            1.00 \n",
      "     ninput.max     rrinput.max   proximity.min exclusivity.min \n",
      "          20.00            0.36            0.50            0.50 \n",
      "\n",
      "Asset.export.Rd\n",
      "\n",
      "ALL subtype\n",
      "    configuration -> 164 bytes\n",
      "    categories -> 984 bytes\n",
      "    reference -> 335,109 bytes\n",
      "    covariates -> 103 bytes\n",
      "    nomenclature -> 325,618 bytes\n",
      "    centroids -> 15,212 bytes\n",
      "    coefficients -> 3,150 bytes\n",
      "[1] \"categories.txt\"    \"centroids.txt\"     \"coefficients.txt\" \n",
      "[4] \"configuration.txt\" \"covariates.txt\"    \"nomenclature.txt\" \n",
      "[7] \"reference.txt\"    \n",
      "\n",
      "Asset.nomenclature.Rd\n",
      "                   VAR                                               NAME\n",
      "ENSG00000001167   NFYA       nuclear transcription factor Y subunit alpha\n",
      "ENSG00000001460  STPG1             sperm tail PG-rich repeat containing 1\n",
      "ENSG00000001561  ENPP4 ectonucleotide pyrophosphatase/phosphodiesterase 4\n",
      "ENSG00000001617 SEMA3F                                      semaphorin 3F\n",
      "ENSG00000002549   LAP3                           leucine aminopeptidase 3\n",
      "ENSG00000002586   CD99                     CD99 molecule (Xg blood group)\n"
     ]
    },
    {
     "name": "stderr",
     "output_type": "stream",
     "text": [
      "Warning message:\n",
      "“Asset.assemble(): 16 / 18 categories included.”\n",
      "Warning message:\n",
      "“Asset.normalize(): 5808 / 5839 variables renamed.”\n"
     ]
    },
    {
     "name": "stdout",
     "output_type": "stream",
     "text": [
      "       patient1 patient2 patient3 patient4 patient5\n",
      "NFYA       1988     2254     4804     2055     2829\n",
      "STPG1        65       91       66       66      141\n",
      "ENPP4        88      243      298       24      319\n",
      "SEMA3F     1098      980       24      470      154\n",
      "LAP3       1601     1926     1937     1503     1644\n",
      "CD99      11308    15191     1808     1533    10549\n",
      "                patient1 patient2 patient3 patient4 patient5\n",
      "ENSG00000001167   1920.6   2248.2   4835.3   2051.1     2657\n",
      "ENSG00000001460     62.8     90.8     66.4     65.9      132\n",
      "ENSG00000001561     85.0    242.4    299.9     24.0      300\n",
      "ENSG00000001617   1060.8    977.5     24.2    469.1      145\n",
      "ENSG00000002549   1546.7   1921.1   1949.6   1500.1     1544\n",
      "ENSG00000002586  10924.4  15151.8   1819.8   1530.1     9907\n",
      "\n",
      "Asset.normalize.Rd\n",
      "\n",
      "ALL subtype\n",
      "    configuration -> 164 bytes\n",
      "    categories -> 984 bytes\n",
      "    reference -> 335,109 bytes\n",
      "    covariates -> 103 bytes\n",
      "    nomenclature -> 325,618 bytes\n",
      "    centroids -> 15,212 bytes\n",
      "    coefficients -> 3,150 bytes\n",
      "       patient1 patient2 patient3 patient4 patient5\n",
      "NFYA       2583     2699     3569     4732     2214\n",
      "STPG1        73       39       57      182       25\n",
      "ENPP4        21       44      237       50       87\n",
      "SEMA3F      230       88      934      101      346\n",
      "LAP3       2693     1350     1038     1927     2348\n",
      "CD99       8122    15925     6375     1286     7324\n",
      "       patient1 patient2 patient3 patient4 patient5\n",
      "NFYA     2550.8   2751.7   3492.3   4847.4   2286.7\n",
      "STPG1      72.1     39.8     55.8    186.4     25.8\n",
      "ENPP4      20.7     44.9    231.9     51.2     89.9\n",
      "SEMA3F    227.1     89.7    913.9    103.5    357.4\n",
      "LAP3     2659.4   1376.4   1015.7   1974.0   2425.1\n",
      "CD99     8020.7  16236.5   6238.0   1317.4   7564.5\n",
      "\n",
      "Asset.Rd\n",
      "\n",
      "ALL subtype\n",
      "    configuration -> 164 bytes\n",
      "    categories -> 984 bytes\n",
      "    reference -> 335,109 bytes\n",
      "    covariates -> 103 bytes\n",
      "    nomenclature -> 325,618 bytes\n",
      "    centroids -> 15,212 bytes\n",
      "    coefficients -> 3,150 bytes\n",
      "\n",
      "Asset.standardize.Rd\n",
      "\n",
      "ALL subtype\n",
      "    configuration -> 164 bytes\n",
      "    categories -> 984 bytes\n",
      "    reference -> 335,109 bytes\n",
      "    covariates -> 103 bytes\n",
      "    nomenclature -> 325,618 bytes\n",
      "    centroids -> 15,212 bytes\n",
      "    coefficients -> 3,150 bytes\n"
     ]
    },
    {
     "name": "stderr",
     "output_type": "stream",
     "text": [
      "Warning message:\n",
      "“Asset.standardize(): 5807 / 5808 usable variables.”\n"
     ]
    },
    {
     "name": "stdout",
     "output_type": "stream",
     "text": [
      "       patient1 patient2 patient3 patient4 patient5\n",
      "NFYA       3520     2719     3094     1655     3093\n",
      "STPG1        26      238       23       71       79\n",
      "ENPP4       359       46      660       28      183\n",
      "SEMA3F      813      137      668      587      356\n",
      "LAP3       2961     2381     1340     2813     2912\n",
      "CD99       9224     7089    15319     6603     5338\n",
      "       patient1 patient2 patient3 patient4 patient5\n",
      "NFYA     3593.0   2870.0   3030.7   1647.8   3125.4\n",
      "STPG1      26.5    251.2     22.5     70.7     79.8\n",
      "ENPP4     366.4     48.6    646.5     27.9    184.9\n",
      "SEMA3F    829.9    144.6    654.3    584.4    359.7\n",
      "LAP3     3022.4   2513.3   1312.6   2800.7   2942.5\n",
      "CD99     9415.3   7482.8  15005.6   6574.2   5394.0\n",
      "       patient1 patient2 patient3 patient4 patient5\n",
      "NFYA      0.422 -0.10782   0.0209   -1.387   0.0936\n",
      "STPG1    -1.374  1.26600  -1.5515   -0.240  -0.0945\n",
      "ENPP4     0.738 -0.70344   1.1360   -1.084   0.2497\n",
      "SEMA3F    0.710 -0.33513   0.5689    0.502   0.2111\n",
      "LAP3      0.879  0.50110  -0.8449    0.724   0.8249\n",
      "CD99      0.245 -0.00125   0.7418   -0.140  -0.3525\n",
      "\n",
      "Asset.visuals.Rd\n",
      "                    LABEL     COLOR COLOR.light COLOR.dark\n",
      "cat1           Category 1 #FF47BDFF   #FF67DEFF  #E52092FF\n",
      "cat2           Category 2 #FF4246FF   #FF6162FF  #E81D26FF\n",
      "cat3           Category 3 #FF6D20FF   #FF9235FF  #E43D0BFF\n",
      "cat4           Category 4 #E8AE0BFF   #F6CE17FF  #C37703FF\n",
      "cat5           Category 5 #99DF13FF   #B5F322FF  #70AA07FF\n",
      "cat6           Category 6 #35E25DFF   #4FF376FF  #18B23EFF\n",
      "cat7           Category 7 #0EB5DBFF   #1BD8F1FF  #0385B9FF\n",
      "cat8           Category 8 #2382FFFF   #39AAFFFF  #0C52EBFF\n",
      "Unclassified Unclassified   #888888     #b0b0b0    #404040\n",
      "Ambiguous       Ambiguous   #888888     #b0b0b0    #404040\n",
      "                    LABEL   COLOR COLOR.light COLOR.dark\n",
      "cat1           Category 1     red   #FF67DEFF  #E52092FF\n",
      "cat2           Category 2     red   #FF6162FF  #E81D26FF\n",
      "cat3           Category 3     red   #FF9235FF  #E43D0BFF\n",
      "cat4           Category 4     red   #F6CE17FF  #C37703FF\n",
      "cat5           Category 5     red   #B5F322FF  #70AA07FF\n",
      "cat6           Category 6     red   #4FF376FF  #18B23EFF\n",
      "cat7           Category 7     red   #1BD8F1FF  #0385B9FF\n",
      "cat8           Category 8     red   #39AAFFFF  #0C52EBFF\n",
      "Unclassified Unclassified #888888     #b0b0b0    #404040\n",
      "Ambiguous       Ambiguous #888888     #b0b0b0    #404040\n",
      "\n",
      "bcellALL.Rd\n",
      "       patient1 patient2 patient3 patient4 patient5\n",
      "NFYA       2459     3526     1618     3242     2717\n",
      "STPG1        49       32       32       31       87\n",
      "ENPP4        60      168       65     1170      201\n",
      "SEMA3F      485     5315       11       72      103\n",
      "LAP3       3314      870     2525     2534     1342\n",
      "CD99       3527     7277     8117     1486     8863\n",
      "         MALE AGE    SUBTYPE\n",
      "patient1    1  43     ZNF384\n",
      "patient2    1  31 ETV6.RUNX1\n",
      "patient3    1  26  PAX5.p80r\n",
      "patient4    1  20  TCF3.PBX1\n",
      "patient5    1  52         Ph\n",
      "\n",
      "Classifier.covariates.Rd\n"
     ]
    },
    {
     "name": "stderr",
     "output_type": "stream",
     "text": [
      "Warning message:\n",
      "“Classifier.profiles(): Incomplete covariates.”\n"
     ]
    },
    {
     "name": "stdout",
     "output_type": "stream",
     "text": [
      "                  LABEL  PROX  EXCL\n",
      "patient1          KMT2A 1.000 1.000\n",
      "patient2 Ph (BCR::ABL1) 0.973 0.835\n",
      "patient3      Ambiguous 0.918 0.141\n",
      "patient4          CRLF2 0.977 0.895\n",
      "patient5           DUX4 1.000 1.000\n",
      "                  LABEL  PROX   EXCL\n",
      "patient1          KMT2A 1.000 1.0000\n",
      "patient2 Ph (BCR::ABL1) 0.997 0.9755\n",
      "patient3      Ambiguous 0.915 0.0641\n",
      "patient4          CRLF2 0.976 0.8222\n",
      "patient5           DUX4 1.000 1.0000\n",
      "\n",
      "Classifier.information.Rd\n",
      "  ASSET         TITLE COVAR\n",
      "1     1   ALL subtype  MALE\n",
      "2     1   ALL subtype   AGE\n",
      "3     2  Driver genes  MALE\n",
      "4     2  Driver genes   AGE\n",
      "5     3 Source tissue  MALE\n",
      "6     3 Source tissue   AGE\n",
      "                                                              SOURCE\n",
      "1 /home/hdh1028/miniconda3/envs/ssam/lib/R/library/Allspice/subtypes\n",
      "2 /home/hdh1028/miniconda3/envs/ssam/lib/R/library/Allspice/subtypes\n",
      "3  /home/hdh1028/miniconda3/envs/ssam/lib/R/library/Allspice/drivers\n",
      "4  /home/hdh1028/miniconda3/envs/ssam/lib/R/library/Allspice/drivers\n",
      "5  /home/hdh1028/miniconda3/envs/ssam/lib/R/library/Allspice/tissues\n",
      "6  /home/hdh1028/miniconda3/envs/ssam/lib/R/library/Allspice/tissues\n",
      "  ASSET         TITLE norm nonzero.min nonzero.ratio standard logarithm\n",
      "1     1   ALL subtype    1         100          0.01        1         1\n",
      "2     2  Driver genes    1         100          0.01        1         1\n",
      "3     3 Source tissue    1         100          0.01        1         1\n",
      "  ninput.max rrinput.max proximity.min exclusivity.min\n",
      "1         45        0.36           0.5             0.5\n",
      "2         45        0.36           0.5             0.5\n",
      "3         45        0.36           0.5             0.5\n",
      "                                                              SOURCE\n",
      "1 /home/hdh1028/miniconda3/envs/ssam/lib/R/library/Allspice/subtypes\n",
      "2  /home/hdh1028/miniconda3/envs/ssam/lib/R/library/Allspice/drivers\n",
      "3  /home/hdh1028/miniconda3/envs/ssam/lib/R/library/Allspice/tissues\n",
      "  ASSET       TITLE      CATEG       LABEL     COLOR COLOR.light COLOR.dark\n",
      "1     1 ALL subtype   BCL2_MYC    BCL2/MYC #FF47BDFF   #FF67DEFF  #E52092FF\n",
      "2     1 ALL subtype  CDX2.high CDX2 hi-exp #FF458CFF   #FF65ABFF  #E61F66FF\n",
      "3     1 ALL subtype      CRLF2       CRLF2 #FF435BFF   #FF6278FF  #E71D39FF\n",
      "4     1 ALL subtype       DUX4        DUX4 #FF4531FF   #FF644BFF  #E81F13FF\n",
      "5     1 ALL subtype ETV6.RUNX1 ETV6::RUNX1 #FF5A28FF   #FF7D3FFF  #E62F0FFF\n",
      "6     1 ALL subtype        HLF         HLF #FF701FFF   #FF9633FF  #E43F0AFF\n",
      "                                                              SOURCE\n",
      "1 /home/hdh1028/miniconda3/envs/ssam/lib/R/library/Allspice/subtypes\n",
      "2 /home/hdh1028/miniconda3/envs/ssam/lib/R/library/Allspice/subtypes\n",
      "3 /home/hdh1028/miniconda3/envs/ssam/lib/R/library/Allspice/subtypes\n",
      "4 /home/hdh1028/miniconda3/envs/ssam/lib/R/library/Allspice/subtypes\n",
      "5 /home/hdh1028/miniconda3/envs/ssam/lib/R/library/Allspice/subtypes\n",
      "6 /home/hdh1028/miniconda3/envs/ssam/lib/R/library/Allspice/subtypes\n",
      "    ASSET         TITLE        CATEG        LABEL     COLOR COLOR.light\n",
      "97      3 Source tissue           Ph   B-cell ALL #FF46ADFF   #FF67CEFF\n",
      "98      3 Source tissue        T.ALL   T-cell ALL #2382FFFF   #39AAFFFF\n",
      "99      3 Source tissue    TCF3.PBX1   B-cell ALL #FF751DFF   #FF9B30FF\n",
      "100     3 Source tissue       ZNF384   B-cell ALL #FF7C1AFF   #FFA32CFF\n",
      "101     3 Source tissue Unclassified Unclassified   #888888     #b0b0b0\n",
      "102     3 Source tissue    Ambiguous    Ambiguous   #888888     #b0b0b0\n",
      "    COLOR.dark\n",
      "97   #E51F83FF\n",
      "98   #0C52EBFF\n",
      "99   #E34309FF\n",
      "100  #E34807FF\n",
      "101    #404040\n",
      "102    #404040\n",
      "                                                               SOURCE\n",
      "97  /home/hdh1028/miniconda3/envs/ssam/lib/R/library/Allspice/tissues\n",
      "98  /home/hdh1028/miniconda3/envs/ssam/lib/R/library/Allspice/tissues\n",
      "99  /home/hdh1028/miniconda3/envs/ssam/lib/R/library/Allspice/tissues\n",
      "100 /home/hdh1028/miniconda3/envs/ssam/lib/R/library/Allspice/tissues\n",
      "101 /home/hdh1028/miniconda3/envs/ssam/lib/R/library/Allspice/tissues\n",
      "102 /home/hdh1028/miniconda3/envs/ssam/lib/R/library/Allspice/tissues\n",
      "\n",
      "Classifier.predictions.Rd\n",
      "                LABEL  PROX  EXCL\n",
      "patient1        CRLF2 0.972 0.520\n",
      "patient2        KMT2A 1.000 1.000\n",
      "patient3    PAX5 alt. 0.985 0.903\n",
      "patient4 Hyperdiploid 0.967 0.765\n",
      "patient5  ETV6::RUNX1 1.000 1.000\n",
      "              LABEL  PROX  EXCL\n",
      "patient1  Ambiguous 0.979 0.212\n",
      "patient2 KMT2A,AFF1 0.997 0.896\n",
      "patient3       PAX5 0.995 0.867\n",
      "patient4  Ambiguous 0.732 0.195\n",
      "patient5 ETV6,RUNX1 1.000 0.993\n",
      "              LABEL  PROX EXCL\n",
      "patient1 B-cell ALL 0.996    1\n",
      "patient2 B-cell ALL 1.000    1\n",
      "patient3 B-cell ALL 1.000    1\n",
      "patient4 B-cell ALL 0.987    1\n",
      "patient5 B-cell ALL 1.000    1\n",
      "\n",
      "Classifier.profiles.Rd\n",
      "               LABEL  PROX  EXCL\n",
      "patient1   PAX5 alt. 0.991 0.961\n",
      "patient2 ETV6::RUNX1 0.999 1.000\n",
      "patient3   Ambiguous 0.946 0.424\n",
      "patient4        DUX4 1.000 1.000\n",
      "patient5      ZNF384 0.995 0.993\n",
      "\n",
      "Classifier.Rd\n",
      "\n",
      "ALL subtype\n",
      "    configuration -> 164 bytes\n",
      "    categories -> 984 bytes\n",
      "    reference -> 335,109 bytes\n",
      "    covariates -> 103 bytes\n",
      "    nomenclature -> 325,618 bytes\n",
      "    centroids -> 15,212 bytes\n",
      "    coefficients -> 3,150 bytes\n",
      "\n",
      "Driver genes\n",
      "    configuration -> 165 bytes\n",
      "    categories -> 1,461 bytes\n",
      "    reference -> 333,812 bytes\n",
      "    covariates -> 102 bytes\n",
      "    nomenclature -> 324,271 bytes\n",
      "    centroids -> 22,764 bytes\n",
      "    coefficients -> 4,796 bytes\n",
      "\n",
      "Source tissue\n",
      "    configuration -> 166 bytes\n",
      "    categories -> 2,619 bytes\n",
      "    reference -> 251,540 bytes\n",
      "    covariates -> 105 bytes\n",
      "    nomenclature -> 242,601 bytes\n",
      "    centroids -> 42,622 bytes\n",
      "    coefficients -> 9,144 bytes\n",
      "\n",
      "Classifier.report.Rd\n",
      "\n",
      "Classifier.scores.Rd\n",
      "         BCL2_MYC CDX2.high   CRLF2  DUX4 ETV6.RUNX1\n",
      "patient1  -0.3001    -1.935 -0.1988 -4.20   -4.41198\n",
      "patient2  -1.1016    -0.759 -0.0272 -2.40   -0.00993\n",
      "patient3  -0.6948    -1.383  0.7697 -2.97   -3.28177\n",
      "patient4  -0.0746    -1.224 -4.3953 -3.04   -6.07014\n",
      "patient5  -1.0242    -0.816 -2.0827 -2.22    4.20350\n",
      "         ABL1_BCR ABL1_NUP214 CRLF2_P2RY8   DUX4   ETV6\n",
      "patient1    0.686      0.3195       0.483 -1.270 -0.715\n",
      "patient2    0.720     -0.0326       0.648 -1.045 -0.752\n",
      "patient3    2.104      0.0299      -0.514 -1.435 -1.650\n",
      "patient4   -3.645     -2.7315      -3.041 -1.712 -1.305\n",
      "patient5   -1.351     -0.8642      -1.160 -0.569 -0.324\n",
      "         BCL2_MYC CDX2.high  CRLF2  DUX4 ETP.ALL\n",
      "patient1  -0.2750    -0.418  0.374 -3.07   -2.34\n",
      "patient2  -1.5512    -1.326  0.511 -1.94   -2.13\n",
      "patient3  -1.3891    -1.397  2.535 -1.76   -1.16\n",
      "patient4   0.0749    -0.618 -4.517 -3.11   -2.49\n",
      "patient5  -1.6538    -0.655 -0.835 -1.75   -2.84\n",
      "\n",
      "All examples completed.\n",
      "\n"
     ]
    }
   ],
   "source": [
    "# Run all code examples (not shown in vignette).\n",
    "fn <- system.file(\"examples.R\", package = \"Allspice\")\n",
    "source(fn)"
   ]
  },
  {
   "cell_type": "markdown",
   "id": "f9f264f4",
   "metadata": {},
   "source": [
    "# 2 Dataset"
   ]
  },
  {
   "cell_type": "code",
   "execution_count": 21,
   "id": "e8ed66fb",
   "metadata": {
    "vscode": {
     "languageId": "r"
    }
   },
   "outputs": [
    {
     "name": "stdout",
     "output_type": "stream",
     "text": [
      "       patient1 patient2 patient3 patient4 patient5 patient6\n",
      "NFYA       2530     2253     3270     3148     2484     4337\n",
      "STPG1        99       71       70       98      314      130\n",
      "ENPP4       129      274      151      232       71      252\n",
      "SEMA3F       44       85      111     1490       87      120\n",
      "LAP3       1975     1368     2632     1930     2203     2641\n"
     ]
    }
   ],
   "source": [
    "# Generate gene RNA read counts.\n",
    "simu <- bcellALL(300)\n",
    "print(simu$counts[1:5,1:6])"
   ]
  },
  {
   "cell_type": "code",
   "execution_count": 31,
   "id": "57d46c25",
   "metadata": {
    "vscode": {
     "languageId": "r"
    }
   },
   "outputs": [
    {
     "data": {
      "text/html": [
       "<table class=\"dataframe\">\n",
       "<caption>A matrix: 5839 × 300 of type dbl</caption>\n",
       "<thead>\n",
       "\t<tr><th></th><th scope=col>patient1</th><th scope=col>patient2</th><th scope=col>patient3</th><th scope=col>patient4</th><th scope=col>patient5</th><th scope=col>patient6</th><th scope=col>patient7</th><th scope=col>patient8</th><th scope=col>patient9</th><th scope=col>patient10</th><th scope=col>⋯</th><th scope=col>patient291</th><th scope=col>patient292</th><th scope=col>patient293</th><th scope=col>patient294</th><th scope=col>patient295</th><th scope=col>patient296</th><th scope=col>patient297</th><th scope=col>patient298</th><th scope=col>patient299</th><th scope=col>patient300</th></tr>\n",
       "</thead>\n",
       "<tbody>\n",
       "\t<tr><th scope=row>NFYA</th><td> 2530</td><td> 2253</td><td> 3270</td><td>3148</td><td>2484</td><td>4337</td><td> 5002</td><td>6165</td><td>3020</td><td> 192</td><td>⋯</td><td>2244</td><td>2214</td><td> 395</td><td> 1996.00</td><td> 2041</td><td> 2596</td><td>2585</td><td> 2734</td><td> 2773</td><td>1576</td></tr>\n",
       "\t<tr><th scope=row>STPG1</th><td>   99</td><td>   71</td><td>   70</td><td>  98</td><td> 314</td><td> 130</td><td>   50</td><td> 104</td><td>  43</td><td>2972</td><td>⋯</td><td> 131</td><td>  65</td><td>  21</td><td>   40.00</td><td>   33</td><td>   59</td><td>  95</td><td>   83</td><td>   37</td><td>  73</td></tr>\n",
       "\t<tr><th scope=row>ENPP4</th><td>  129</td><td>  274</td><td>  151</td><td> 232</td><td>  71</td><td> 252</td><td>  172</td><td>  38</td><td> 624</td><td>4171</td><td>⋯</td><td> 304</td><td> 179</td><td>  70</td><td>  103.00</td><td>  228</td><td>  127</td><td>  97</td><td>  245</td><td>   18</td><td> 240</td></tr>\n",
       "\t<tr><th scope=row>SEMA3F</th><td>   44</td><td>   85</td><td>  111</td><td>1490</td><td>  87</td><td> 120</td><td>   11</td><td>  18</td><td> 499</td><td> 151</td><td>⋯</td><td>  12</td><td> 105</td><td>3815</td><td>  209.00</td><td>   98</td><td>   61</td><td>1853</td><td> 1006</td><td>  121</td><td> 662</td></tr>\n",
       "\t<tr><th scope=row>LAP3</th><td> 1975</td><td> 1368</td><td> 2632</td><td>1930</td><td>2203</td><td>2641</td><td> 1163</td><td>2143</td><td> 944</td><td> 440</td><td>⋯</td><td>2371</td><td>2191</td><td> 184</td><td> 2963.00</td><td> 1899</td><td> 2295</td><td>3313</td><td> 1906</td><td> 2860</td><td> 912</td></tr>\n",
       "\t<tr><th scope=row>CD99</th><td>16674</td><td>10645</td><td>20534</td><td>8386</td><td>1617</td><td>1758</td><td> 2186</td><td> 601</td><td>4288</td><td>1802</td><td>⋯</td><td>1367</td><td>8304</td><td> 279</td><td>41034.86</td><td>13144</td><td> 1384</td><td>6236</td><td>12467</td><td>10136</td><td> 854</td></tr>\n",
       "\t<tr><th scope=row>HS3ST1</th><td>   41</td><td>   13</td><td>    4</td><td>   2</td><td>   7</td><td>  14</td><td>    4</td><td>  25</td><td> 730</td><td>  17</td><td>⋯</td><td>  25</td><td>  20</td><td>1750</td><td>    9.00</td><td>   22</td><td>    3</td><td>  17</td><td>   21</td><td>   11</td><td>   2</td></tr>\n",
       "\t<tr><th scope=row>HECW1</th><td>    1</td><td>   23</td><td>    0</td><td>   6</td><td> 107</td><td> 178</td><td>   67</td><td>   3</td><td>  41</td><td> 148</td><td>⋯</td><td>1978</td><td>  22</td><td>   4</td><td>  352.00</td><td>    9</td><td> 3735</td><td>   2</td><td>    0</td><td>  273</td><td> 702</td></tr>\n",
       "\t<tr><th scope=row>MAD1L1</th><td> 1495</td><td> 1732</td><td> 1188</td><td>1472</td><td>1254</td><td>1398</td><td> 1448</td><td>1238</td><td> 851</td><td>3708</td><td>⋯</td><td>2077</td><td> 856</td><td> 106</td><td> 1562.00</td><td> 1091</td><td> 2568</td><td> 666</td><td> 1394</td><td> 1423</td><td>2233</td></tr>\n",
       "\t<tr><th scope=row>LASP1</th><td> 4615</td><td> 3726</td><td> 5720</td><td>3168</td><td>5531</td><td>3857</td><td> 2946</td><td>3055</td><td>4377</td><td>  16</td><td>⋯</td><td>2647</td><td>4619</td><td>3851</td><td> 5606.00</td><td> 6435</td><td> 3803</td><td>3900</td><td> 5212</td><td> 7177</td><td>3159</td></tr>\n",
       "\t<tr><th scope=row>KLHL13</th><td>    9</td><td>    2</td><td>    1</td><td>   8</td><td>  79</td><td> 605</td><td>  540</td><td> 583</td><td>   2</td><td>1737</td><td>⋯</td><td>1706</td><td>   7</td><td> 707</td><td>    0.00</td><td>   41</td><td>   10</td><td>   3</td><td>    3</td><td>    8</td><td> 821</td></tr>\n",
       "\t<tr><th scope=row>DBNDD1</th><td>  210</td><td>   60</td><td>  121</td><td>  18</td><td>   3</td><td>  16</td><td>   10</td><td>  14</td><td>  18</td><td>   1</td><td>⋯</td><td>  68</td><td> 273</td><td>   4</td><td>   36.00</td><td>   18</td><td>    5</td><td>  11</td><td>   49</td><td>   59</td><td>   1</td></tr>\n",
       "\t<tr><th scope=row>ALS2</th><td>  486</td><td>  569</td><td>  660</td><td> 590</td><td> 606</td><td> 854</td><td>  723</td><td> 736</td><td> 394</td><td>1422</td><td>⋯</td><td> 407</td><td> 772</td><td> 426</td><td>  589.00</td><td>  479</td><td> 1148</td><td> 563</td><td>  655</td><td>  474</td><td> 595</td></tr>\n",
       "\t<tr><th scope=row>CASP10</th><td> 1828</td><td> 2232</td><td> 5043</td><td>1759</td><td>1281</td><td>1531</td><td> 1841</td><td>2034</td><td>1033</td><td> 761</td><td>⋯</td><td> 684</td><td>3192</td><td> 167</td><td> 2480.00</td><td> 1258</td><td>  807</td><td>1007</td><td> 2635</td><td> 3236</td><td> 625</td></tr>\n",
       "\t<tr><th scope=row>TFPI</th><td>   62</td><td>   57</td><td>   54</td><td>  28</td><td>  97</td><td>  55</td><td>  212</td><td> 187</td><td> 778</td><td>1635</td><td>⋯</td><td> 219</td><td> 109</td><td>  74</td><td>   40.00</td><td>   21</td><td>   40</td><td>  45</td><td>   25</td><td>   44</td><td>  31</td></tr>\n",
       "\t<tr><th scope=row>PLXND1</th><td> 7665</td><td> 8778</td><td>10353</td><td>5181</td><td>7714</td><td>2942</td><td> 3643</td><td>4917</td><td>4039</td><td> 288</td><td>⋯</td><td>3245</td><td>5707</td><td>  22</td><td> 6087.00</td><td>13860</td><td>  915</td><td>6707</td><td>10426</td><td> 7274</td><td> 994</td></tr>\n",
       "\t<tr><th scope=row>CD38</th><td>  572</td><td> 4521</td><td> 1767</td><td> 793</td><td>6744</td><td>7421</td><td>13682</td><td>8203</td><td>5766</td><td> 248</td><td>⋯</td><td>5822</td><td>1742</td><td> 582</td><td> 3149.00</td><td>28419</td><td> 8076</td><td>2816</td><td> 1396</td><td> 7459</td><td>6074</td></tr>\n",
       "\t<tr><th scope=row>FKBP4</th><td> 1062</td><td>  357</td><td> 1130</td><td> 980</td><td> 374</td><td> 183</td><td>  276</td><td> 643</td><td>2349</td><td>   2</td><td>⋯</td><td>2296</td><td> 287</td><td>  15</td><td>  486.00</td><td>  163</td><td> 1049</td><td>1429</td><td>  563</td><td>  752</td><td> 480</td></tr>\n",
       "\t<tr><th scope=row>PDK4</th><td>  247</td><td>   26</td><td>  357</td><td> 163</td><td>  15</td><td>  44</td><td>   62</td><td>  28</td><td>  11</td><td>  14</td><td>⋯</td><td>1203</td><td> 488</td><td>   1</td><td>   71.00</td><td>  593</td><td>   57</td><td>  22</td><td>  313</td><td>   13</td><td>  67</td></tr>\n",
       "\t<tr><th scope=row>SLC22A16</th><td>  538</td><td>  436</td><td>  657</td><td> 540</td><td> 649</td><td> 554</td><td>  701</td><td> 658</td><td> 482</td><td>8517</td><td>⋯</td><td> 555</td><td> 413</td><td> 409</td><td>  450.00</td><td>  338</td><td>  612</td><td> 610</td><td>  465</td><td>  341</td><td> 462</td></tr>\n",
       "\t<tr><th scope=row>SLC25A13</th><td>  383</td><td>  482</td><td>  365</td><td> 319</td><td> 689</td><td> 673</td><td>  786</td><td> 728</td><td> 570</td><td>   8</td><td>⋯</td><td> 513</td><td> 574</td><td>1923</td><td>  524.00</td><td>  642</td><td>  671</td><td> 486</td><td>  484</td><td>  600</td><td> 760</td></tr>\n",
       "\t<tr><th scope=row>HCCS</th><td>  498</td><td>  479</td><td>  279</td><td> 462</td><td> 256</td><td> 193</td><td>  258</td><td> 259</td><td> 467</td><td>   3</td><td>⋯</td><td> 542</td><td> 375</td><td> 367</td><td>  308.00</td><td>  334</td><td>  213</td><td> 676</td><td>  663</td><td>  403</td><td> 357</td></tr>\n",
       "\t<tr><th scope=row>SKAP2</th><td>   72</td><td>  291</td><td>  279</td><td>1784</td><td>2338</td><td> 256</td><td>   84</td><td> 905</td><td> 851</td><td>   1</td><td>⋯</td><td> 335</td><td> 861</td><td>  22</td><td>  522.00</td><td> 1155</td><td>  467</td><td>1163</td><td>  353</td><td>  206</td><td> 277</td></tr>\n",
       "\t<tr><th scope=row>MCUB</th><td>  947</td><td>  647</td><td>  700</td><td>1903</td><td> 760</td><td> 748</td><td>  659</td><td> 463</td><td> 551</td><td>  11</td><td>⋯</td><td>1050</td><td> 835</td><td>2153</td><td> 1205.00</td><td> 1392</td><td> 1107</td><td>2742</td><td>  728</td><td> 1623</td><td>1084</td></tr>\n",
       "\t<tr><th scope=row>THSD7A</th><td>  358</td><td>  530</td><td>  530</td><td> 445</td><td> 807</td><td> 110</td><td>    4</td><td>  60</td><td> 560</td><td>1698</td><td>⋯</td><td> 592</td><td> 186</td><td>  24</td><td>   17.00</td><td> 3830</td><td>  317</td><td>  71</td><td>  179</td><td>  260</td><td>  12</td></tr>\n",
       "\t<tr><th scope=row>ACSM3</th><td>  300</td><td>   58</td><td>  163</td><td> 144</td><td> 191</td><td>  79</td><td>  311</td><td> 234</td><td>  48</td><td>2348</td><td>⋯</td><td>2799</td><td> 149</td><td>  17</td><td>   81.00</td><td>   78</td><td>  157</td><td>  28</td><td>  160</td><td>  179</td><td>  77</td></tr>\n",
       "\t<tr><th scope=row>PRKAR2B</th><td>  350</td><td>  877</td><td>  501</td><td>1974</td><td> 232</td><td> 117</td><td>   64</td><td> 165</td><td> 728</td><td> 270</td><td>⋯</td><td> 273</td><td> 564</td><td>5551</td><td> 2744.00</td><td>  155</td><td> 1211</td><td>5060</td><td>  426</td><td>   85</td><td>  40</td></tr>\n",
       "\t<tr><th scope=row>TSPOAP1</th><td> 4710</td><td> 5272</td><td> 2677</td><td>4346</td><td>1663</td><td>2055</td><td> 2184</td><td>1219</td><td>4880</td><td> 144</td><td>⋯</td><td> 766</td><td>4203</td><td>1431</td><td> 6800.00</td><td>14350</td><td>12297</td><td>5254</td><td> 6029</td><td> 7652</td><td>6086</td></tr>\n",
       "\t<tr><th scope=row>ABCB4</th><td>  191</td><td>  197</td><td>  350</td><td> 253</td><td> 533</td><td> 129</td><td> 2014</td><td> 441</td><td>  10</td><td>   7</td><td>⋯</td><td> 536</td><td> 254</td><td>   3</td><td>  121.00</td><td>   12</td><td> 4791</td><td> 315</td><td>  112</td><td>  139</td><td> 202</td></tr>\n",
       "\t<tr><th scope=row>SOX8</th><td>   30</td><td>    8</td><td>    9</td><td>   2</td><td>  13</td><td>  14</td><td>   10</td><td> 115</td><td>  38</td><td>  64</td><td>⋯</td><td>  57</td><td>  20</td><td>  17</td><td>    4.00</td><td>   15</td><td>   36</td><td>   4</td><td>    8</td><td>   12</td><td>  19</td></tr>\n",
       "\t<tr><th scope=row>⋮</th><td>⋮</td><td>⋮</td><td>⋮</td><td>⋮</td><td>⋮</td><td>⋮</td><td>⋮</td><td>⋮</td><td>⋮</td><td>⋮</td><td>⋱</td><td>⋮</td><td>⋮</td><td>⋮</td><td>⋮</td><td>⋮</td><td>⋮</td><td>⋮</td><td>⋮</td><td>⋮</td><td>⋮</td></tr>\n",
       "\t<tr><th scope=row>MSTN</th><td> 6</td><td> 2</td><td> 2</td><td> 2</td><td> 2</td><td> 8</td><td> 9</td><td>12</td><td> 1</td><td> 9935</td><td>⋯</td><td> 10</td><td> 8</td><td> 229</td><td> 3</td><td> 3</td><td>  7</td><td>  1</td><td> 4</td><td> 5</td><td>  5</td></tr>\n",
       "\t<tr><th scope=row>MMP16</th><td> 2</td><td> 1</td><td> 6</td><td> 1</td><td> 6</td><td> 3</td><td> 5</td><td> 2</td><td> 3</td><td>    8</td><td>⋯</td><td>  0</td><td> 0</td><td>  62</td><td> 1</td><td> 2</td><td>  9</td><td>  8</td><td> 1</td><td> 0</td><td> 16</td></tr>\n",
       "\t<tr><th scope=row>CDX2</th><td> 2</td><td>11</td><td> 7</td><td> 3</td><td> 9</td><td> 5</td><td>10</td><td> 7</td><td>11</td><td>  483</td><td>⋯</td><td>  3</td><td> 3</td><td>   1</td><td> 4</td><td> 3</td><td> 15</td><td> 96</td><td>11</td><td>11</td><td> 54</td></tr>\n",
       "\t<tr><th scope=row>ADRA2C</th><td> 1</td><td> 1</td><td> 4</td><td> 1</td><td> 6</td><td> 9</td><td> 8</td><td>51</td><td> 3</td><td>   11</td><td>⋯</td><td> 42</td><td> 0</td><td>  40</td><td> 0</td><td> 2</td><td>  9</td><td>  0</td><td> 1</td><td> 5</td><td>  1</td></tr>\n",
       "\t<tr><th scope=row>HLA-DPA3</th><td> 1</td><td> 1</td><td> 1</td><td>10</td><td> 1</td><td> 2</td><td> 2</td><td> 1</td><td>12</td><td>    2</td><td>⋯</td><td>  0</td><td> 4</td><td>3050</td><td> 0</td><td> 0</td><td>  1</td><td>  1</td><td> 1</td><td> 0</td><td>  0</td></tr>\n",
       "\t<tr><th scope=row>FAM21FP</th><td>47</td><td>41</td><td>35</td><td>29</td><td>32</td><td>56</td><td>25</td><td>34</td><td>18</td><td>  122</td><td>⋯</td><td> 24</td><td>18</td><td>   1</td><td>35</td><td>31</td><td> 12</td><td> 41</td><td>33</td><td>25</td><td> 45</td></tr>\n",
       "\t<tr><th scope=row>IGKV2-23</th><td> 2</td><td> 1</td><td> 3</td><td> 4</td><td>27</td><td> 1</td><td> 0</td><td> 2</td><td> 0</td><td>    3</td><td>⋯</td><td>  1</td><td> 2</td><td>5182</td><td> 0</td><td> 1</td><td>123</td><td>  2</td><td> 0</td><td> 3</td><td>  6</td></tr>\n",
       "\t<tr><th scope=row>LINC01749</th><td> 3</td><td> 0</td><td> 0</td><td> 1</td><td> 0</td><td> 4</td><td> 1</td><td> 4</td><td>23</td><td>   19</td><td>⋯</td><td> 10</td><td> 2</td><td>  12</td><td> 5</td><td> 0</td><td>  5</td><td>  0</td><td> 0</td><td> 6</td><td>  0</td></tr>\n",
       "\t<tr><th scope=row>LINC02018</th><td>20</td><td>19</td><td>23</td><td>44</td><td>20</td><td>12</td><td>27</td><td>24</td><td>46</td><td>  634</td><td>⋯</td><td> 33</td><td>15</td><td> 303</td><td>16</td><td>19</td><td> 14</td><td> 31</td><td>31</td><td>12</td><td> 20</td></tr>\n",
       "\t<tr><th scope=row>HSD17B6</th><td>11</td><td>41</td><td>17</td><td>17</td><td>20</td><td>28</td><td>24</td><td>20</td><td>22</td><td>  392</td><td>⋯</td><td> 42</td><td>22</td><td>  46</td><td>29</td><td>10</td><td> 12</td><td> 12</td><td>22</td><td>19</td><td> 26</td></tr>\n",
       "\t<tr><th scope=row>IQCH</th><td>16</td><td>37</td><td>28</td><td>16</td><td>41</td><td>48</td><td>26</td><td>25</td><td>21</td><td> 3480</td><td>⋯</td><td> 50</td><td>36</td><td>   9</td><td>26</td><td>24</td><td> 44</td><td> 16</td><td>10</td><td>26</td><td> 33</td></tr>\n",
       "\t<tr><th scope=row>FAM189A1</th><td> 2</td><td> 1</td><td> 1</td><td> 1</td><td> 3</td><td> 1</td><td> 0</td><td> 0</td><td> 1</td><td>  421</td><td>⋯</td><td>129</td><td> 2</td><td>1144</td><td> 0</td><td> 0</td><td>  0</td><td>  2</td><td> 0</td><td> 2</td><td>  5</td></tr>\n",
       "\t<tr><th scope=row>GLP1R</th><td> 1</td><td> 1</td><td> 1</td><td> 1</td><td> 1</td><td> 1</td><td> 2</td><td> 2</td><td> 5</td><td>18926</td><td>⋯</td><td>  1</td><td> 1</td><td>  59</td><td> 1</td><td> 1</td><td>  7</td><td>  0</td><td> 0</td><td> 2</td><td>  1</td></tr>\n",
       "\t<tr><th scope=row>ARHGAP20</th><td> 0</td><td> 4</td><td> 7</td><td> 2</td><td> 3</td><td> 4</td><td> 5</td><td> 4</td><td> 1</td><td>  190</td><td>⋯</td><td>  1</td><td> 3</td><td>  87</td><td> 9</td><td> 5</td><td>  2</td><td>  0</td><td> 1</td><td> 2</td><td> 10</td></tr>\n",
       "\t<tr><th scope=row>HSF2BP</th><td>11</td><td>23</td><td>19</td><td>20</td><td>14</td><td> 9</td><td> 9</td><td>20</td><td>13</td><td>  178</td><td>⋯</td><td> 19</td><td>13</td><td>2008</td><td>28</td><td> 8</td><td> 26</td><td> 40</td><td> 7</td><td>20</td><td> 26</td></tr>\n",
       "\t<tr><th scope=row>AK8</th><td>22</td><td> 8</td><td>18</td><td>16</td><td>18</td><td>19</td><td>16</td><td>10</td><td> 5</td><td>    4</td><td>⋯</td><td>  9</td><td>16</td><td>  17</td><td>18</td><td>14</td><td>  5</td><td> 12</td><td>18</td><td>16</td><td> 34</td></tr>\n",
       "\t<tr><th scope=row>LARP6</th><td> 3</td><td> 0</td><td> 2</td><td> 1</td><td> 1</td><td> 2</td><td> 1</td><td> 1</td><td> 0</td><td> 1775</td><td>⋯</td><td>299</td><td> 2</td><td>  71</td><td> 0</td><td> 5</td><td> 87</td><td>  0</td><td> 0</td><td> 2</td><td>  7</td></tr>\n",
       "\t<tr><th scope=row>ASPG</th><td> 0</td><td> 1</td><td> 0</td><td> 0</td><td> 2</td><td>25</td><td>14</td><td>16</td><td> 1</td><td> 5247</td><td>⋯</td><td>  1</td><td> 0</td><td> 615</td><td> 0</td><td> 0</td><td>  0</td><td>  0</td><td> 1</td><td> 0</td><td>  4</td></tr>\n",
       "\t<tr><th scope=row>EPHA10</th><td> 5</td><td> 2</td><td> 1</td><td> 4</td><td> 6</td><td> 6</td><td> 6</td><td> 4</td><td> 1</td><td>   44</td><td>⋯</td><td>  4</td><td> 2</td><td>   5</td><td> 2</td><td> 2</td><td>  3</td><td>  2</td><td> 1</td><td> 4</td><td>  8</td></tr>\n",
       "\t<tr><th scope=row>NCMAP</th><td> 2</td><td> 5</td><td> 0</td><td> 0</td><td> 8</td><td> 2</td><td> 0</td><td> 1</td><td> 0</td><td>    7</td><td>⋯</td><td>  1</td><td> 7</td><td> 349</td><td> 1</td><td> 1</td><td> 13</td><td>  1</td><td> 1</td><td> 3</td><td>117</td></tr>\n",
       "\t<tr><th scope=row>KLHL32</th><td> 3</td><td> 3</td><td> 4</td><td> 7</td><td>14</td><td> 5</td><td> 4</td><td> 3</td><td> 5</td><td>   35</td><td>⋯</td><td> 60</td><td> 3</td><td>3066</td><td> 8</td><td> 7</td><td> 21</td><td>  8</td><td> 3</td><td>13</td><td> 37</td></tr>\n",
       "\t<tr><th scope=row>FAM86B1</th><td> 8</td><td>15</td><td>13</td><td> 6</td><td>29</td><td>14</td><td>43</td><td>14</td><td> 4</td><td>   12</td><td>⋯</td><td> 26</td><td> 3</td><td>  92</td><td> 3</td><td> 2</td><td> 13</td><td> 13</td><td> 8</td><td> 5</td><td> 14</td></tr>\n",
       "\t<tr><th scope=row>PCDHB11</th><td> 0</td><td> 6</td><td> 1</td><td> 1</td><td> 1</td><td> 5</td><td> 9</td><td>12</td><td>33</td><td>   51</td><td>⋯</td><td>  2</td><td> 1</td><td> 319</td><td> 3</td><td> 4</td><td>  0</td><td>  0</td><td> 0</td><td> 1</td><td>  1</td></tr>\n",
       "\t<tr><th scope=row>LINC00189</th><td> 2</td><td>10</td><td> 2</td><td> 8</td><td> 0</td><td> 1</td><td> 7</td><td> 2</td><td> 3</td><td>  343</td><td>⋯</td><td>  2</td><td> 2</td><td>  30</td><td>16</td><td> 0</td><td>  2</td><td>  4</td><td> 1</td><td> 3</td><td>  0</td></tr>\n",
       "\t<tr><th scope=row>PRKAR2A-AS1</th><td>22</td><td>44</td><td>16</td><td>25</td><td>25</td><td>27</td><td>29</td><td>29</td><td>22</td><td>   41</td><td>⋯</td><td> 32</td><td>40</td><td>  67</td><td>37</td><td>12</td><td> 17</td><td> 35</td><td>37</td><td>18</td><td> 19</td></tr>\n",
       "\t<tr><th scope=row>FAM66A</th><td> 0</td><td> 4</td><td> 0</td><td>18</td><td> 0</td><td>28</td><td>10</td><td>10</td><td> 4</td><td>   56</td><td>⋯</td><td> 47</td><td>27</td><td>  30</td><td> 3</td><td> 2</td><td>  6</td><td>115</td><td>25</td><td> 5</td><td> 25</td></tr>\n",
       "\t<tr><th scope=row>FLG-AS1</th><td>12</td><td> 1</td><td> 0</td><td> 1</td><td> 9</td><td> 0</td><td> 0</td><td> 0</td><td> 2</td><td> 2634</td><td>⋯</td><td>  5</td><td> 9</td><td>1520</td><td> 1</td><td> 5</td><td>  2</td><td>  1</td><td> 0</td><td> 5</td><td> 11</td></tr>\n",
       "\t<tr><th scope=row>CCDC13</th><td>16</td><td>18</td><td> 9</td><td>20</td><td>30</td><td>10</td><td>20</td><td>15</td><td>12</td><td> 1115</td><td>⋯</td><td> 24</td><td> 8</td><td> 437</td><td> 7</td><td> 8</td><td> 28</td><td> 16</td><td>13</td><td>22</td><td> 16</td></tr>\n",
       "\t<tr><th scope=row>SORD2P</th><td>13</td><td>17</td><td>13</td><td>18</td><td>54</td><td>10</td><td>23</td><td>27</td><td> 9</td><td>    1</td><td>⋯</td><td> 24</td><td> 8</td><td>2019</td><td> 6</td><td>13</td><td> 21</td><td>  7</td><td>16</td><td>19</td><td> 31</td></tr>\n",
       "\t<tr><th scope=row>LINC01229</th><td> 3</td><td> 5</td><td> 4</td><td> 5</td><td> 0</td><td>36</td><td>23</td><td>40</td><td> 0</td><td>  569</td><td>⋯</td><td> 12</td><td> 2</td><td> 624</td><td> 2</td><td> 3</td><td>  4</td><td>  1</td><td> 4</td><td> 1</td><td>  3</td></tr>\n",
       "</tbody>\n",
       "</table>\n"
      ],
      "text/latex": [
       "A matrix: 5839 × 300 of type dbl\n",
       "\\begin{tabular}{r|lllllllllllllllllllll}\n",
       "  & patient1 & patient2 & patient3 & patient4 & patient5 & patient6 & patient7 & patient8 & patient9 & patient10 & ⋯ & patient291 & patient292 & patient293 & patient294 & patient295 & patient296 & patient297 & patient298 & patient299 & patient300\\\\\n",
       "\\hline\n",
       "\tNFYA &  2530 &  2253 &  3270 & 3148 & 2484 & 4337 &  5002 & 6165 & 3020 &  192 & ⋯ & 2244 & 2214 &  395 &  1996.00 &  2041 &  2596 & 2585 &  2734 &  2773 & 1576\\\\\n",
       "\tSTPG1 &    99 &    71 &    70 &   98 &  314 &  130 &    50 &  104 &   43 & 2972 & ⋯ &  131 &   65 &   21 &    40.00 &    33 &    59 &   95 &    83 &    37 &   73\\\\\n",
       "\tENPP4 &   129 &   274 &   151 &  232 &   71 &  252 &   172 &   38 &  624 & 4171 & ⋯ &  304 &  179 &   70 &   103.00 &   228 &   127 &   97 &   245 &    18 &  240\\\\\n",
       "\tSEMA3F &    44 &    85 &   111 & 1490 &   87 &  120 &    11 &   18 &  499 &  151 & ⋯ &   12 &  105 & 3815 &   209.00 &    98 &    61 & 1853 &  1006 &   121 &  662\\\\\n",
       "\tLAP3 &  1975 &  1368 &  2632 & 1930 & 2203 & 2641 &  1163 & 2143 &  944 &  440 & ⋯ & 2371 & 2191 &  184 &  2963.00 &  1899 &  2295 & 3313 &  1906 &  2860 &  912\\\\\n",
       "\tCD99 & 16674 & 10645 & 20534 & 8386 & 1617 & 1758 &  2186 &  601 & 4288 & 1802 & ⋯ & 1367 & 8304 &  279 & 41034.86 & 13144 &  1384 & 6236 & 12467 & 10136 &  854\\\\\n",
       "\tHS3ST1 &    41 &    13 &     4 &    2 &    7 &   14 &     4 &   25 &  730 &   17 & ⋯ &   25 &   20 & 1750 &     9.00 &    22 &     3 &   17 &    21 &    11 &    2\\\\\n",
       "\tHECW1 &     1 &    23 &     0 &    6 &  107 &  178 &    67 &    3 &   41 &  148 & ⋯ & 1978 &   22 &    4 &   352.00 &     9 &  3735 &    2 &     0 &   273 &  702\\\\\n",
       "\tMAD1L1 &  1495 &  1732 &  1188 & 1472 & 1254 & 1398 &  1448 & 1238 &  851 & 3708 & ⋯ & 2077 &  856 &  106 &  1562.00 &  1091 &  2568 &  666 &  1394 &  1423 & 2233\\\\\n",
       "\tLASP1 &  4615 &  3726 &  5720 & 3168 & 5531 & 3857 &  2946 & 3055 & 4377 &   16 & ⋯ & 2647 & 4619 & 3851 &  5606.00 &  6435 &  3803 & 3900 &  5212 &  7177 & 3159\\\\\n",
       "\tKLHL13 &     9 &     2 &     1 &    8 &   79 &  605 &   540 &  583 &    2 & 1737 & ⋯ & 1706 &    7 &  707 &     0.00 &    41 &    10 &    3 &     3 &     8 &  821\\\\\n",
       "\tDBNDD1 &   210 &    60 &   121 &   18 &    3 &   16 &    10 &   14 &   18 &    1 & ⋯ &   68 &  273 &    4 &    36.00 &    18 &     5 &   11 &    49 &    59 &    1\\\\\n",
       "\tALS2 &   486 &   569 &   660 &  590 &  606 &  854 &   723 &  736 &  394 & 1422 & ⋯ &  407 &  772 &  426 &   589.00 &   479 &  1148 &  563 &   655 &   474 &  595\\\\\n",
       "\tCASP10 &  1828 &  2232 &  5043 & 1759 & 1281 & 1531 &  1841 & 2034 & 1033 &  761 & ⋯ &  684 & 3192 &  167 &  2480.00 &  1258 &   807 & 1007 &  2635 &  3236 &  625\\\\\n",
       "\tTFPI &    62 &    57 &    54 &   28 &   97 &   55 &   212 &  187 &  778 & 1635 & ⋯ &  219 &  109 &   74 &    40.00 &    21 &    40 &   45 &    25 &    44 &   31\\\\\n",
       "\tPLXND1 &  7665 &  8778 & 10353 & 5181 & 7714 & 2942 &  3643 & 4917 & 4039 &  288 & ⋯ & 3245 & 5707 &   22 &  6087.00 & 13860 &   915 & 6707 & 10426 &  7274 &  994\\\\\n",
       "\tCD38 &   572 &  4521 &  1767 &  793 & 6744 & 7421 & 13682 & 8203 & 5766 &  248 & ⋯ & 5822 & 1742 &  582 &  3149.00 & 28419 &  8076 & 2816 &  1396 &  7459 & 6074\\\\\n",
       "\tFKBP4 &  1062 &   357 &  1130 &  980 &  374 &  183 &   276 &  643 & 2349 &    2 & ⋯ & 2296 &  287 &   15 &   486.00 &   163 &  1049 & 1429 &   563 &   752 &  480\\\\\n",
       "\tPDK4 &   247 &    26 &   357 &  163 &   15 &   44 &    62 &   28 &   11 &   14 & ⋯ & 1203 &  488 &    1 &    71.00 &   593 &    57 &   22 &   313 &    13 &   67\\\\\n",
       "\tSLC22A16 &   538 &   436 &   657 &  540 &  649 &  554 &   701 &  658 &  482 & 8517 & ⋯ &  555 &  413 &  409 &   450.00 &   338 &   612 &  610 &   465 &   341 &  462\\\\\n",
       "\tSLC25A13 &   383 &   482 &   365 &  319 &  689 &  673 &   786 &  728 &  570 &    8 & ⋯ &  513 &  574 & 1923 &   524.00 &   642 &   671 &  486 &   484 &   600 &  760\\\\\n",
       "\tHCCS &   498 &   479 &   279 &  462 &  256 &  193 &   258 &  259 &  467 &    3 & ⋯ &  542 &  375 &  367 &   308.00 &   334 &   213 &  676 &   663 &   403 &  357\\\\\n",
       "\tSKAP2 &    72 &   291 &   279 & 1784 & 2338 &  256 &    84 &  905 &  851 &    1 & ⋯ &  335 &  861 &   22 &   522.00 &  1155 &   467 & 1163 &   353 &   206 &  277\\\\\n",
       "\tMCUB &   947 &   647 &   700 & 1903 &  760 &  748 &   659 &  463 &  551 &   11 & ⋯ & 1050 &  835 & 2153 &  1205.00 &  1392 &  1107 & 2742 &   728 &  1623 & 1084\\\\\n",
       "\tTHSD7A &   358 &   530 &   530 &  445 &  807 &  110 &     4 &   60 &  560 & 1698 & ⋯ &  592 &  186 &   24 &    17.00 &  3830 &   317 &   71 &   179 &   260 &   12\\\\\n",
       "\tACSM3 &   300 &    58 &   163 &  144 &  191 &   79 &   311 &  234 &   48 & 2348 & ⋯ & 2799 &  149 &   17 &    81.00 &    78 &   157 &   28 &   160 &   179 &   77\\\\\n",
       "\tPRKAR2B &   350 &   877 &   501 & 1974 &  232 &  117 &    64 &  165 &  728 &  270 & ⋯ &  273 &  564 & 5551 &  2744.00 &   155 &  1211 & 5060 &   426 &    85 &   40\\\\\n",
       "\tTSPOAP1 &  4710 &  5272 &  2677 & 4346 & 1663 & 2055 &  2184 & 1219 & 4880 &  144 & ⋯ &  766 & 4203 & 1431 &  6800.00 & 14350 & 12297 & 5254 &  6029 &  7652 & 6086\\\\\n",
       "\tABCB4 &   191 &   197 &   350 &  253 &  533 &  129 &  2014 &  441 &   10 &    7 & ⋯ &  536 &  254 &    3 &   121.00 &    12 &  4791 &  315 &   112 &   139 &  202\\\\\n",
       "\tSOX8 &    30 &     8 &     9 &    2 &   13 &   14 &    10 &  115 &   38 &   64 & ⋯ &   57 &   20 &   17 &     4.00 &    15 &    36 &    4 &     8 &    12 &   19\\\\\n",
       "\t⋮ & ⋮ & ⋮ & ⋮ & ⋮ & ⋮ & ⋮ & ⋮ & ⋮ & ⋮ & ⋮ & ⋱ & ⋮ & ⋮ & ⋮ & ⋮ & ⋮ & ⋮ & ⋮ & ⋮ & ⋮ & ⋮\\\\\n",
       "\tMSTN &  6 &  2 &  2 &  2 &  2 &  8 &  9 & 12 &  1 &  9935 & ⋯ &  10 &  8 &  229 &  3 &  3 &   7 &   1 &  4 &  5 &   5\\\\\n",
       "\tMMP16 &  2 &  1 &  6 &  1 &  6 &  3 &  5 &  2 &  3 &     8 & ⋯ &   0 &  0 &   62 &  1 &  2 &   9 &   8 &  1 &  0 &  16\\\\\n",
       "\tCDX2 &  2 & 11 &  7 &  3 &  9 &  5 & 10 &  7 & 11 &   483 & ⋯ &   3 &  3 &    1 &  4 &  3 &  15 &  96 & 11 & 11 &  54\\\\\n",
       "\tADRA2C &  1 &  1 &  4 &  1 &  6 &  9 &  8 & 51 &  3 &    11 & ⋯ &  42 &  0 &   40 &  0 &  2 &   9 &   0 &  1 &  5 &   1\\\\\n",
       "\tHLA-DPA3 &  1 &  1 &  1 & 10 &  1 &  2 &  2 &  1 & 12 &     2 & ⋯ &   0 &  4 & 3050 &  0 &  0 &   1 &   1 &  1 &  0 &   0\\\\\n",
       "\tFAM21FP & 47 & 41 & 35 & 29 & 32 & 56 & 25 & 34 & 18 &   122 & ⋯ &  24 & 18 &    1 & 35 & 31 &  12 &  41 & 33 & 25 &  45\\\\\n",
       "\tIGKV2-23 &  2 &  1 &  3 &  4 & 27 &  1 &  0 &  2 &  0 &     3 & ⋯ &   1 &  2 & 5182 &  0 &  1 & 123 &   2 &  0 &  3 &   6\\\\\n",
       "\tLINC01749 &  3 &  0 &  0 &  1 &  0 &  4 &  1 &  4 & 23 &    19 & ⋯ &  10 &  2 &   12 &  5 &  0 &   5 &   0 &  0 &  6 &   0\\\\\n",
       "\tLINC02018 & 20 & 19 & 23 & 44 & 20 & 12 & 27 & 24 & 46 &   634 & ⋯ &  33 & 15 &  303 & 16 & 19 &  14 &  31 & 31 & 12 &  20\\\\\n",
       "\tHSD17B6 & 11 & 41 & 17 & 17 & 20 & 28 & 24 & 20 & 22 &   392 & ⋯ &  42 & 22 &   46 & 29 & 10 &  12 &  12 & 22 & 19 &  26\\\\\n",
       "\tIQCH & 16 & 37 & 28 & 16 & 41 & 48 & 26 & 25 & 21 &  3480 & ⋯ &  50 & 36 &    9 & 26 & 24 &  44 &  16 & 10 & 26 &  33\\\\\n",
       "\tFAM189A1 &  2 &  1 &  1 &  1 &  3 &  1 &  0 &  0 &  1 &   421 & ⋯ & 129 &  2 & 1144 &  0 &  0 &   0 &   2 &  0 &  2 &   5\\\\\n",
       "\tGLP1R &  1 &  1 &  1 &  1 &  1 &  1 &  2 &  2 &  5 & 18926 & ⋯ &   1 &  1 &   59 &  1 &  1 &   7 &   0 &  0 &  2 &   1\\\\\n",
       "\tARHGAP20 &  0 &  4 &  7 &  2 &  3 &  4 &  5 &  4 &  1 &   190 & ⋯ &   1 &  3 &   87 &  9 &  5 &   2 &   0 &  1 &  2 &  10\\\\\n",
       "\tHSF2BP & 11 & 23 & 19 & 20 & 14 &  9 &  9 & 20 & 13 &   178 & ⋯ &  19 & 13 & 2008 & 28 &  8 &  26 &  40 &  7 & 20 &  26\\\\\n",
       "\tAK8 & 22 &  8 & 18 & 16 & 18 & 19 & 16 & 10 &  5 &     4 & ⋯ &   9 & 16 &   17 & 18 & 14 &   5 &  12 & 18 & 16 &  34\\\\\n",
       "\tLARP6 &  3 &  0 &  2 &  1 &  1 &  2 &  1 &  1 &  0 &  1775 & ⋯ & 299 &  2 &   71 &  0 &  5 &  87 &   0 &  0 &  2 &   7\\\\\n",
       "\tASPG &  0 &  1 &  0 &  0 &  2 & 25 & 14 & 16 &  1 &  5247 & ⋯ &   1 &  0 &  615 &  0 &  0 &   0 &   0 &  1 &  0 &   4\\\\\n",
       "\tEPHA10 &  5 &  2 &  1 &  4 &  6 &  6 &  6 &  4 &  1 &    44 & ⋯ &   4 &  2 &    5 &  2 &  2 &   3 &   2 &  1 &  4 &   8\\\\\n",
       "\tNCMAP &  2 &  5 &  0 &  0 &  8 &  2 &  0 &  1 &  0 &     7 & ⋯ &   1 &  7 &  349 &  1 &  1 &  13 &   1 &  1 &  3 & 117\\\\\n",
       "\tKLHL32 &  3 &  3 &  4 &  7 & 14 &  5 &  4 &  3 &  5 &    35 & ⋯ &  60 &  3 & 3066 &  8 &  7 &  21 &   8 &  3 & 13 &  37\\\\\n",
       "\tFAM86B1 &  8 & 15 & 13 &  6 & 29 & 14 & 43 & 14 &  4 &    12 & ⋯ &  26 &  3 &   92 &  3 &  2 &  13 &  13 &  8 &  5 &  14\\\\\n",
       "\tPCDHB11 &  0 &  6 &  1 &  1 &  1 &  5 &  9 & 12 & 33 &    51 & ⋯ &   2 &  1 &  319 &  3 &  4 &   0 &   0 &  0 &  1 &   1\\\\\n",
       "\tLINC00189 &  2 & 10 &  2 &  8 &  0 &  1 &  7 &  2 &  3 &   343 & ⋯ &   2 &  2 &   30 & 16 &  0 &   2 &   4 &  1 &  3 &   0\\\\\n",
       "\tPRKAR2A-AS1 & 22 & 44 & 16 & 25 & 25 & 27 & 29 & 29 & 22 &    41 & ⋯ &  32 & 40 &   67 & 37 & 12 &  17 &  35 & 37 & 18 &  19\\\\\n",
       "\tFAM66A &  0 &  4 &  0 & 18 &  0 & 28 & 10 & 10 &  4 &    56 & ⋯ &  47 & 27 &   30 &  3 &  2 &   6 & 115 & 25 &  5 &  25\\\\\n",
       "\tFLG-AS1 & 12 &  1 &  0 &  1 &  9 &  0 &  0 &  0 &  2 &  2634 & ⋯ &   5 &  9 & 1520 &  1 &  5 &   2 &   1 &  0 &  5 &  11\\\\\n",
       "\tCCDC13 & 16 & 18 &  9 & 20 & 30 & 10 & 20 & 15 & 12 &  1115 & ⋯ &  24 &  8 &  437 &  7 &  8 &  28 &  16 & 13 & 22 &  16\\\\\n",
       "\tSORD2P & 13 & 17 & 13 & 18 & 54 & 10 & 23 & 27 &  9 &     1 & ⋯ &  24 &  8 & 2019 &  6 & 13 &  21 &   7 & 16 & 19 &  31\\\\\n",
       "\tLINC01229 &  3 &  5 &  4 &  5 &  0 & 36 & 23 & 40 &  0 &   569 & ⋯ &  12 &  2 &  624 &  2 &  3 &   4 &   1 &  4 &  1 &   3\\\\\n",
       "\\end{tabular}\n"
      ],
      "text/markdown": [
       "\n",
       "A matrix: 5839 × 300 of type dbl\n",
       "\n",
       "| <!--/--> | patient1 | patient2 | patient3 | patient4 | patient5 | patient6 | patient7 | patient8 | patient9 | patient10 | ⋯ | patient291 | patient292 | patient293 | patient294 | patient295 | patient296 | patient297 | patient298 | patient299 | patient300 |\n",
       "|---|---|---|---|---|---|---|---|---|---|---|---|---|---|---|---|---|---|---|---|---|---|\n",
       "| NFYA |  2530 |  2253 |  3270 | 3148 | 2484 | 4337 |  5002 | 6165 | 3020 |  192 | ⋯ | 2244 | 2214 |  395 |  1996.00 |  2041 |  2596 | 2585 |  2734 |  2773 | 1576 |\n",
       "| STPG1 |    99 |    71 |    70 |   98 |  314 |  130 |    50 |  104 |   43 | 2972 | ⋯ |  131 |   65 |   21 |    40.00 |    33 |    59 |   95 |    83 |    37 |   73 |\n",
       "| ENPP4 |   129 |   274 |   151 |  232 |   71 |  252 |   172 |   38 |  624 | 4171 | ⋯ |  304 |  179 |   70 |   103.00 |   228 |   127 |   97 |   245 |    18 |  240 |\n",
       "| SEMA3F |    44 |    85 |   111 | 1490 |   87 |  120 |    11 |   18 |  499 |  151 | ⋯ |   12 |  105 | 3815 |   209.00 |    98 |    61 | 1853 |  1006 |   121 |  662 |\n",
       "| LAP3 |  1975 |  1368 |  2632 | 1930 | 2203 | 2641 |  1163 | 2143 |  944 |  440 | ⋯ | 2371 | 2191 |  184 |  2963.00 |  1899 |  2295 | 3313 |  1906 |  2860 |  912 |\n",
       "| CD99 | 16674 | 10645 | 20534 | 8386 | 1617 | 1758 |  2186 |  601 | 4288 | 1802 | ⋯ | 1367 | 8304 |  279 | 41034.86 | 13144 |  1384 | 6236 | 12467 | 10136 |  854 |\n",
       "| HS3ST1 |    41 |    13 |     4 |    2 |    7 |   14 |     4 |   25 |  730 |   17 | ⋯ |   25 |   20 | 1750 |     9.00 |    22 |     3 |   17 |    21 |    11 |    2 |\n",
       "| HECW1 |     1 |    23 |     0 |    6 |  107 |  178 |    67 |    3 |   41 |  148 | ⋯ | 1978 |   22 |    4 |   352.00 |     9 |  3735 |    2 |     0 |   273 |  702 |\n",
       "| MAD1L1 |  1495 |  1732 |  1188 | 1472 | 1254 | 1398 |  1448 | 1238 |  851 | 3708 | ⋯ | 2077 |  856 |  106 |  1562.00 |  1091 |  2568 |  666 |  1394 |  1423 | 2233 |\n",
       "| LASP1 |  4615 |  3726 |  5720 | 3168 | 5531 | 3857 |  2946 | 3055 | 4377 |   16 | ⋯ | 2647 | 4619 | 3851 |  5606.00 |  6435 |  3803 | 3900 |  5212 |  7177 | 3159 |\n",
       "| KLHL13 |     9 |     2 |     1 |    8 |   79 |  605 |   540 |  583 |    2 | 1737 | ⋯ | 1706 |    7 |  707 |     0.00 |    41 |    10 |    3 |     3 |     8 |  821 |\n",
       "| DBNDD1 |   210 |    60 |   121 |   18 |    3 |   16 |    10 |   14 |   18 |    1 | ⋯ |   68 |  273 |    4 |    36.00 |    18 |     5 |   11 |    49 |    59 |    1 |\n",
       "| ALS2 |   486 |   569 |   660 |  590 |  606 |  854 |   723 |  736 |  394 | 1422 | ⋯ |  407 |  772 |  426 |   589.00 |   479 |  1148 |  563 |   655 |   474 |  595 |\n",
       "| CASP10 |  1828 |  2232 |  5043 | 1759 | 1281 | 1531 |  1841 | 2034 | 1033 |  761 | ⋯ |  684 | 3192 |  167 |  2480.00 |  1258 |   807 | 1007 |  2635 |  3236 |  625 |\n",
       "| TFPI |    62 |    57 |    54 |   28 |   97 |   55 |   212 |  187 |  778 | 1635 | ⋯ |  219 |  109 |   74 |    40.00 |    21 |    40 |   45 |    25 |    44 |   31 |\n",
       "| PLXND1 |  7665 |  8778 | 10353 | 5181 | 7714 | 2942 |  3643 | 4917 | 4039 |  288 | ⋯ | 3245 | 5707 |   22 |  6087.00 | 13860 |   915 | 6707 | 10426 |  7274 |  994 |\n",
       "| CD38 |   572 |  4521 |  1767 |  793 | 6744 | 7421 | 13682 | 8203 | 5766 |  248 | ⋯ | 5822 | 1742 |  582 |  3149.00 | 28419 |  8076 | 2816 |  1396 |  7459 | 6074 |\n",
       "| FKBP4 |  1062 |   357 |  1130 |  980 |  374 |  183 |   276 |  643 | 2349 |    2 | ⋯ | 2296 |  287 |   15 |   486.00 |   163 |  1049 | 1429 |   563 |   752 |  480 |\n",
       "| PDK4 |   247 |    26 |   357 |  163 |   15 |   44 |    62 |   28 |   11 |   14 | ⋯ | 1203 |  488 |    1 |    71.00 |   593 |    57 |   22 |   313 |    13 |   67 |\n",
       "| SLC22A16 |   538 |   436 |   657 |  540 |  649 |  554 |   701 |  658 |  482 | 8517 | ⋯ |  555 |  413 |  409 |   450.00 |   338 |   612 |  610 |   465 |   341 |  462 |\n",
       "| SLC25A13 |   383 |   482 |   365 |  319 |  689 |  673 |   786 |  728 |  570 |    8 | ⋯ |  513 |  574 | 1923 |   524.00 |   642 |   671 |  486 |   484 |   600 |  760 |\n",
       "| HCCS |   498 |   479 |   279 |  462 |  256 |  193 |   258 |  259 |  467 |    3 | ⋯ |  542 |  375 |  367 |   308.00 |   334 |   213 |  676 |   663 |   403 |  357 |\n",
       "| SKAP2 |    72 |   291 |   279 | 1784 | 2338 |  256 |    84 |  905 |  851 |    1 | ⋯ |  335 |  861 |   22 |   522.00 |  1155 |   467 | 1163 |   353 |   206 |  277 |\n",
       "| MCUB |   947 |   647 |   700 | 1903 |  760 |  748 |   659 |  463 |  551 |   11 | ⋯ | 1050 |  835 | 2153 |  1205.00 |  1392 |  1107 | 2742 |   728 |  1623 | 1084 |\n",
       "| THSD7A |   358 |   530 |   530 |  445 |  807 |  110 |     4 |   60 |  560 | 1698 | ⋯ |  592 |  186 |   24 |    17.00 |  3830 |   317 |   71 |   179 |   260 |   12 |\n",
       "| ACSM3 |   300 |    58 |   163 |  144 |  191 |   79 |   311 |  234 |   48 | 2348 | ⋯ | 2799 |  149 |   17 |    81.00 |    78 |   157 |   28 |   160 |   179 |   77 |\n",
       "| PRKAR2B |   350 |   877 |   501 | 1974 |  232 |  117 |    64 |  165 |  728 |  270 | ⋯ |  273 |  564 | 5551 |  2744.00 |   155 |  1211 | 5060 |   426 |    85 |   40 |\n",
       "| TSPOAP1 |  4710 |  5272 |  2677 | 4346 | 1663 | 2055 |  2184 | 1219 | 4880 |  144 | ⋯ |  766 | 4203 | 1431 |  6800.00 | 14350 | 12297 | 5254 |  6029 |  7652 | 6086 |\n",
       "| ABCB4 |   191 |   197 |   350 |  253 |  533 |  129 |  2014 |  441 |   10 |    7 | ⋯ |  536 |  254 |    3 |   121.00 |    12 |  4791 |  315 |   112 |   139 |  202 |\n",
       "| SOX8 |    30 |     8 |     9 |    2 |   13 |   14 |    10 |  115 |   38 |   64 | ⋯ |   57 |   20 |   17 |     4.00 |    15 |    36 |    4 |     8 |    12 |   19 |\n",
       "| ⋮ | ⋮ | ⋮ | ⋮ | ⋮ | ⋮ | ⋮ | ⋮ | ⋮ | ⋮ | ⋮ | ⋱ | ⋮ | ⋮ | ⋮ | ⋮ | ⋮ | ⋮ | ⋮ | ⋮ | ⋮ | ⋮ |\n",
       "| MSTN |  6 |  2 |  2 |  2 |  2 |  8 |  9 | 12 |  1 |  9935 | ⋯ |  10 |  8 |  229 |  3 |  3 |   7 |   1 |  4 |  5 |   5 |\n",
       "| MMP16 |  2 |  1 |  6 |  1 |  6 |  3 |  5 |  2 |  3 |     8 | ⋯ |   0 |  0 |   62 |  1 |  2 |   9 |   8 |  1 |  0 |  16 |\n",
       "| CDX2 |  2 | 11 |  7 |  3 |  9 |  5 | 10 |  7 | 11 |   483 | ⋯ |   3 |  3 |    1 |  4 |  3 |  15 |  96 | 11 | 11 |  54 |\n",
       "| ADRA2C |  1 |  1 |  4 |  1 |  6 |  9 |  8 | 51 |  3 |    11 | ⋯ |  42 |  0 |   40 |  0 |  2 |   9 |   0 |  1 |  5 |   1 |\n",
       "| HLA-DPA3 |  1 |  1 |  1 | 10 |  1 |  2 |  2 |  1 | 12 |     2 | ⋯ |   0 |  4 | 3050 |  0 |  0 |   1 |   1 |  1 |  0 |   0 |\n",
       "| FAM21FP | 47 | 41 | 35 | 29 | 32 | 56 | 25 | 34 | 18 |   122 | ⋯ |  24 | 18 |    1 | 35 | 31 |  12 |  41 | 33 | 25 |  45 |\n",
       "| IGKV2-23 |  2 |  1 |  3 |  4 | 27 |  1 |  0 |  2 |  0 |     3 | ⋯ |   1 |  2 | 5182 |  0 |  1 | 123 |   2 |  0 |  3 |   6 |\n",
       "| LINC01749 |  3 |  0 |  0 |  1 |  0 |  4 |  1 |  4 | 23 |    19 | ⋯ |  10 |  2 |   12 |  5 |  0 |   5 |   0 |  0 |  6 |   0 |\n",
       "| LINC02018 | 20 | 19 | 23 | 44 | 20 | 12 | 27 | 24 | 46 |   634 | ⋯ |  33 | 15 |  303 | 16 | 19 |  14 |  31 | 31 | 12 |  20 |\n",
       "| HSD17B6 | 11 | 41 | 17 | 17 | 20 | 28 | 24 | 20 | 22 |   392 | ⋯ |  42 | 22 |   46 | 29 | 10 |  12 |  12 | 22 | 19 |  26 |\n",
       "| IQCH | 16 | 37 | 28 | 16 | 41 | 48 | 26 | 25 | 21 |  3480 | ⋯ |  50 | 36 |    9 | 26 | 24 |  44 |  16 | 10 | 26 |  33 |\n",
       "| FAM189A1 |  2 |  1 |  1 |  1 |  3 |  1 |  0 |  0 |  1 |   421 | ⋯ | 129 |  2 | 1144 |  0 |  0 |   0 |   2 |  0 |  2 |   5 |\n",
       "| GLP1R |  1 |  1 |  1 |  1 |  1 |  1 |  2 |  2 |  5 | 18926 | ⋯ |   1 |  1 |   59 |  1 |  1 |   7 |   0 |  0 |  2 |   1 |\n",
       "| ARHGAP20 |  0 |  4 |  7 |  2 |  3 |  4 |  5 |  4 |  1 |   190 | ⋯ |   1 |  3 |   87 |  9 |  5 |   2 |   0 |  1 |  2 |  10 |\n",
       "| HSF2BP | 11 | 23 | 19 | 20 | 14 |  9 |  9 | 20 | 13 |   178 | ⋯ |  19 | 13 | 2008 | 28 |  8 |  26 |  40 |  7 | 20 |  26 |\n",
       "| AK8 | 22 |  8 | 18 | 16 | 18 | 19 | 16 | 10 |  5 |     4 | ⋯ |   9 | 16 |   17 | 18 | 14 |   5 |  12 | 18 | 16 |  34 |\n",
       "| LARP6 |  3 |  0 |  2 |  1 |  1 |  2 |  1 |  1 |  0 |  1775 | ⋯ | 299 |  2 |   71 |  0 |  5 |  87 |   0 |  0 |  2 |   7 |\n",
       "| ASPG |  0 |  1 |  0 |  0 |  2 | 25 | 14 | 16 |  1 |  5247 | ⋯ |   1 |  0 |  615 |  0 |  0 |   0 |   0 |  1 |  0 |   4 |\n",
       "| EPHA10 |  5 |  2 |  1 |  4 |  6 |  6 |  6 |  4 |  1 |    44 | ⋯ |   4 |  2 |    5 |  2 |  2 |   3 |   2 |  1 |  4 |   8 |\n",
       "| NCMAP |  2 |  5 |  0 |  0 |  8 |  2 |  0 |  1 |  0 |     7 | ⋯ |   1 |  7 |  349 |  1 |  1 |  13 |   1 |  1 |  3 | 117 |\n",
       "| KLHL32 |  3 |  3 |  4 |  7 | 14 |  5 |  4 |  3 |  5 |    35 | ⋯ |  60 |  3 | 3066 |  8 |  7 |  21 |   8 |  3 | 13 |  37 |\n",
       "| FAM86B1 |  8 | 15 | 13 |  6 | 29 | 14 | 43 | 14 |  4 |    12 | ⋯ |  26 |  3 |   92 |  3 |  2 |  13 |  13 |  8 |  5 |  14 |\n",
       "| PCDHB11 |  0 |  6 |  1 |  1 |  1 |  5 |  9 | 12 | 33 |    51 | ⋯ |   2 |  1 |  319 |  3 |  4 |   0 |   0 |  0 |  1 |   1 |\n",
       "| LINC00189 |  2 | 10 |  2 |  8 |  0 |  1 |  7 |  2 |  3 |   343 | ⋯ |   2 |  2 |   30 | 16 |  0 |   2 |   4 |  1 |  3 |   0 |\n",
       "| PRKAR2A-AS1 | 22 | 44 | 16 | 25 | 25 | 27 | 29 | 29 | 22 |    41 | ⋯ |  32 | 40 |   67 | 37 | 12 |  17 |  35 | 37 | 18 |  19 |\n",
       "| FAM66A |  0 |  4 |  0 | 18 |  0 | 28 | 10 | 10 |  4 |    56 | ⋯ |  47 | 27 |   30 |  3 |  2 |   6 | 115 | 25 |  5 |  25 |\n",
       "| FLG-AS1 | 12 |  1 |  0 |  1 |  9 |  0 |  0 |  0 |  2 |  2634 | ⋯ |   5 |  9 | 1520 |  1 |  5 |   2 |   1 |  0 |  5 |  11 |\n",
       "| CCDC13 | 16 | 18 |  9 | 20 | 30 | 10 | 20 | 15 | 12 |  1115 | ⋯ |  24 |  8 |  437 |  7 |  8 |  28 |  16 | 13 | 22 |  16 |\n",
       "| SORD2P | 13 | 17 | 13 | 18 | 54 | 10 | 23 | 27 |  9 |     1 | ⋯ |  24 |  8 | 2019 |  6 | 13 |  21 |   7 | 16 | 19 |  31 |\n",
       "| LINC01229 |  3 |  5 |  4 |  5 |  0 | 36 | 23 | 40 |  0 |   569 | ⋯ |  12 |  2 |  624 |  2 |  3 |   4 |   1 |  4 |  1 |   3 |\n",
       "\n"
      ],
      "text/plain": [
       "            patient1 patient2 patient3 patient4 patient5 patient6 patient7\n",
       "NFYA         2530     2253     3270    3148     2484     4337      5002   \n",
       "STPG1          99       71       70      98      314      130        50   \n",
       "ENPP4         129      274      151     232       71      252       172   \n",
       "SEMA3F         44       85      111    1490       87      120        11   \n",
       "LAP3         1975     1368     2632    1930     2203     2641      1163   \n",
       "CD99        16674    10645    20534    8386     1617     1758      2186   \n",
       "HS3ST1         41       13        4       2        7       14         4   \n",
       "HECW1           1       23        0       6      107      178        67   \n",
       "MAD1L1       1495     1732     1188    1472     1254     1398      1448   \n",
       "LASP1        4615     3726     5720    3168     5531     3857      2946   \n",
       "KLHL13          9        2        1       8       79      605       540   \n",
       "DBNDD1        210       60      121      18        3       16        10   \n",
       "ALS2          486      569      660     590      606      854       723   \n",
       "CASP10       1828     2232     5043    1759     1281     1531      1841   \n",
       "TFPI           62       57       54      28       97       55       212   \n",
       "PLXND1       7665     8778    10353    5181     7714     2942      3643   \n",
       "CD38          572     4521     1767     793     6744     7421     13682   \n",
       "FKBP4        1062      357     1130     980      374      183       276   \n",
       "PDK4          247       26      357     163       15       44        62   \n",
       "SLC22A16      538      436      657     540      649      554       701   \n",
       "SLC25A13      383      482      365     319      689      673       786   \n",
       "HCCS          498      479      279     462      256      193       258   \n",
       "SKAP2          72      291      279    1784     2338      256        84   \n",
       "MCUB          947      647      700    1903      760      748       659   \n",
       "THSD7A        358      530      530     445      807      110         4   \n",
       "ACSM3         300       58      163     144      191       79       311   \n",
       "PRKAR2B       350      877      501    1974      232      117        64   \n",
       "TSPOAP1      4710     5272     2677    4346     1663     2055      2184   \n",
       "ABCB4         191      197      350     253      533      129      2014   \n",
       "SOX8           30        8        9       2       13       14        10   \n",
       "⋮           ⋮        ⋮        ⋮        ⋮        ⋮        ⋮        ⋮       \n",
       "MSTN         6        2        2        2        2        8        9      \n",
       "MMP16        2        1        6        1        6        3        5      \n",
       "CDX2         2       11        7        3        9        5       10      \n",
       "ADRA2C       1        1        4        1        6        9        8      \n",
       "HLA-DPA3     1        1        1       10        1        2        2      \n",
       "FAM21FP     47       41       35       29       32       56       25      \n",
       "IGKV2-23     2        1        3        4       27        1        0      \n",
       "LINC01749    3        0        0        1        0        4        1      \n",
       "LINC02018   20       19       23       44       20       12       27      \n",
       "HSD17B6     11       41       17       17       20       28       24      \n",
       "IQCH        16       37       28       16       41       48       26      \n",
       "FAM189A1     2        1        1        1        3        1        0      \n",
       "GLP1R        1        1        1        1        1        1        2      \n",
       "ARHGAP20     0        4        7        2        3        4        5      \n",
       "HSF2BP      11       23       19       20       14        9        9      \n",
       "AK8         22        8       18       16       18       19       16      \n",
       "LARP6        3        0        2        1        1        2        1      \n",
       "ASPG         0        1        0        0        2       25       14      \n",
       "EPHA10       5        2        1        4        6        6        6      \n",
       "NCMAP        2        5        0        0        8        2        0      \n",
       "KLHL32       3        3        4        7       14        5        4      \n",
       "FAM86B1      8       15       13        6       29       14       43      \n",
       "PCDHB11      0        6        1        1        1        5        9      \n",
       "LINC00189    2       10        2        8        0        1        7      \n",
       "PRKAR2A-AS1 22       44       16       25       25       27       29      \n",
       "FAM66A       0        4        0       18        0       28       10      \n",
       "FLG-AS1     12        1        0        1        9        0        0      \n",
       "CCDC13      16       18        9       20       30       10       20      \n",
       "SORD2P      13       17       13       18       54       10       23      \n",
       "LINC01229    3        5        4        5        0       36       23      \n",
       "            patient8 patient9 patient10 ⋯ patient291 patient292 patient293\n",
       "NFYA        6165     3020      192      ⋯ 2244       2214        395      \n",
       "STPG1        104       43     2972      ⋯  131         65         21      \n",
       "ENPP4         38      624     4171      ⋯  304        179         70      \n",
       "SEMA3F        18      499      151      ⋯   12        105       3815      \n",
       "LAP3        2143      944      440      ⋯ 2371       2191        184      \n",
       "CD99         601     4288     1802      ⋯ 1367       8304        279      \n",
       "HS3ST1        25      730       17      ⋯   25         20       1750      \n",
       "HECW1          3       41      148      ⋯ 1978         22          4      \n",
       "MAD1L1      1238      851     3708      ⋯ 2077        856        106      \n",
       "LASP1       3055     4377       16      ⋯ 2647       4619       3851      \n",
       "KLHL13       583        2     1737      ⋯ 1706          7        707      \n",
       "DBNDD1        14       18        1      ⋯   68        273          4      \n",
       "ALS2         736      394     1422      ⋯  407        772        426      \n",
       "CASP10      2034     1033      761      ⋯  684       3192        167      \n",
       "TFPI         187      778     1635      ⋯  219        109         74      \n",
       "PLXND1      4917     4039      288      ⋯ 3245       5707         22      \n",
       "CD38        8203     5766      248      ⋯ 5822       1742        582      \n",
       "FKBP4        643     2349        2      ⋯ 2296        287         15      \n",
       "PDK4          28       11       14      ⋯ 1203        488          1      \n",
       "SLC22A16     658      482     8517      ⋯  555        413        409      \n",
       "SLC25A13     728      570        8      ⋯  513        574       1923      \n",
       "HCCS         259      467        3      ⋯  542        375        367      \n",
       "SKAP2        905      851        1      ⋯  335        861         22      \n",
       "MCUB         463      551       11      ⋯ 1050        835       2153      \n",
       "THSD7A        60      560     1698      ⋯  592        186         24      \n",
       "ACSM3        234       48     2348      ⋯ 2799        149         17      \n",
       "PRKAR2B      165      728      270      ⋯  273        564       5551      \n",
       "TSPOAP1     1219     4880      144      ⋯  766       4203       1431      \n",
       "ABCB4        441       10        7      ⋯  536        254          3      \n",
       "SOX8         115       38       64      ⋯   57         20         17      \n",
       "⋮           ⋮        ⋮        ⋮         ⋱ ⋮          ⋮          ⋮         \n",
       "MSTN        12        1        9935     ⋯  10         8          229      \n",
       "MMP16        2        3           8     ⋯   0         0           62      \n",
       "CDX2         7       11         483     ⋯   3         3            1      \n",
       "ADRA2C      51        3          11     ⋯  42         0           40      \n",
       "HLA-DPA3     1       12           2     ⋯   0         4         3050      \n",
       "FAM21FP     34       18         122     ⋯  24        18            1      \n",
       "IGKV2-23     2        0           3     ⋯   1         2         5182      \n",
       "LINC01749    4       23          19     ⋯  10         2           12      \n",
       "LINC02018   24       46         634     ⋯  33        15          303      \n",
       "HSD17B6     20       22         392     ⋯  42        22           46      \n",
       "IQCH        25       21        3480     ⋯  50        36            9      \n",
       "FAM189A1     0        1         421     ⋯ 129         2         1144      \n",
       "GLP1R        2        5       18926     ⋯   1         1           59      \n",
       "ARHGAP20     4        1         190     ⋯   1         3           87      \n",
       "HSF2BP      20       13         178     ⋯  19        13         2008      \n",
       "AK8         10        5           4     ⋯   9        16           17      \n",
       "LARP6        1        0        1775     ⋯ 299         2           71      \n",
       "ASPG        16        1        5247     ⋯   1         0          615      \n",
       "EPHA10       4        1          44     ⋯   4         2            5      \n",
       "NCMAP        1        0           7     ⋯   1         7          349      \n",
       "KLHL32       3        5          35     ⋯  60         3         3066      \n",
       "FAM86B1     14        4          12     ⋯  26         3           92      \n",
       "PCDHB11     12       33          51     ⋯   2         1          319      \n",
       "LINC00189    2        3         343     ⋯   2         2           30      \n",
       "PRKAR2A-AS1 29       22          41     ⋯  32        40           67      \n",
       "FAM66A      10        4          56     ⋯  47        27           30      \n",
       "FLG-AS1      0        2        2634     ⋯   5         9         1520      \n",
       "CCDC13      15       12        1115     ⋯  24         8          437      \n",
       "SORD2P      27        9           1     ⋯  24         8         2019      \n",
       "LINC01229   40        0         569     ⋯  12         2          624      \n",
       "            patient294 patient295 patient296 patient297 patient298 patient299\n",
       "NFYA         1996.00    2041       2596      2585        2734       2773     \n",
       "STPG1          40.00      33         59        95          83         37     \n",
       "ENPP4         103.00     228        127        97         245         18     \n",
       "SEMA3F        209.00      98         61      1853        1006        121     \n",
       "LAP3         2963.00    1899       2295      3313        1906       2860     \n",
       "CD99        41034.86   13144       1384      6236       12467      10136     \n",
       "HS3ST1          9.00      22          3        17          21         11     \n",
       "HECW1         352.00       9       3735         2           0        273     \n",
       "MAD1L1       1562.00    1091       2568       666        1394       1423     \n",
       "LASP1        5606.00    6435       3803      3900        5212       7177     \n",
       "KLHL13          0.00      41         10         3           3          8     \n",
       "DBNDD1         36.00      18          5        11          49         59     \n",
       "ALS2          589.00     479       1148       563         655        474     \n",
       "CASP10       2480.00    1258        807      1007        2635       3236     \n",
       "TFPI           40.00      21         40        45          25         44     \n",
       "PLXND1       6087.00   13860        915      6707       10426       7274     \n",
       "CD38         3149.00   28419       8076      2816        1396       7459     \n",
       "FKBP4         486.00     163       1049      1429         563        752     \n",
       "PDK4           71.00     593         57        22         313         13     \n",
       "SLC22A16      450.00     338        612       610         465        341     \n",
       "SLC25A13      524.00     642        671       486         484        600     \n",
       "HCCS          308.00     334        213       676         663        403     \n",
       "SKAP2         522.00    1155        467      1163         353        206     \n",
       "MCUB         1205.00    1392       1107      2742         728       1623     \n",
       "THSD7A         17.00    3830        317        71         179        260     \n",
       "ACSM3          81.00      78        157        28         160        179     \n",
       "PRKAR2B      2744.00     155       1211      5060         426         85     \n",
       "TSPOAP1      6800.00   14350      12297      5254        6029       7652     \n",
       "ABCB4         121.00      12       4791       315         112        139     \n",
       "SOX8            4.00      15         36         4           8         12     \n",
       "⋮           ⋮          ⋮          ⋮          ⋮          ⋮          ⋮         \n",
       "MSTN         3          3           7          1         4          5        \n",
       "MMP16        1          2           9          8         1          0        \n",
       "CDX2         4          3          15         96        11         11        \n",
       "ADRA2C       0          2           9          0         1          5        \n",
       "HLA-DPA3     0          0           1          1         1          0        \n",
       "FAM21FP     35         31          12         41        33         25        \n",
       "IGKV2-23     0          1         123          2         0          3        \n",
       "LINC01749    5          0           5          0         0          6        \n",
       "LINC02018   16         19          14         31        31         12        \n",
       "HSD17B6     29         10          12         12        22         19        \n",
       "IQCH        26         24          44         16        10         26        \n",
       "FAM189A1     0          0           0          2         0          2        \n",
       "GLP1R        1          1           7          0         0          2        \n",
       "ARHGAP20     9          5           2          0         1          2        \n",
       "HSF2BP      28          8          26         40         7         20        \n",
       "AK8         18         14           5         12        18         16        \n",
       "LARP6        0          5          87          0         0          2        \n",
       "ASPG         0          0           0          0         1          0        \n",
       "EPHA10       2          2           3          2         1          4        \n",
       "NCMAP        1          1          13          1         1          3        \n",
       "KLHL32       8          7          21          8         3         13        \n",
       "FAM86B1      3          2          13         13         8          5        \n",
       "PCDHB11      3          4           0          0         0          1        \n",
       "LINC00189   16          0           2          4         1          3        \n",
       "PRKAR2A-AS1 37         12          17         35        37         18        \n",
       "FAM66A       3          2           6        115        25          5        \n",
       "FLG-AS1      1          5           2          1         0          5        \n",
       "CCDC13       7          8          28         16        13         22        \n",
       "SORD2P       6         13          21          7        16         19        \n",
       "LINC01229    2          3           4          1         4          1        \n",
       "            patient300\n",
       "NFYA        1576      \n",
       "STPG1         73      \n",
       "ENPP4        240      \n",
       "SEMA3F       662      \n",
       "LAP3         912      \n",
       "CD99         854      \n",
       "HS3ST1         2      \n",
       "HECW1        702      \n",
       "MAD1L1      2233      \n",
       "LASP1       3159      \n",
       "KLHL13       821      \n",
       "DBNDD1         1      \n",
       "ALS2         595      \n",
       "CASP10       625      \n",
       "TFPI          31      \n",
       "PLXND1       994      \n",
       "CD38        6074      \n",
       "FKBP4        480      \n",
       "PDK4          67      \n",
       "SLC22A16     462      \n",
       "SLC25A13     760      \n",
       "HCCS         357      \n",
       "SKAP2        277      \n",
       "MCUB        1084      \n",
       "THSD7A        12      \n",
       "ACSM3         77      \n",
       "PRKAR2B       40      \n",
       "TSPOAP1     6086      \n",
       "ABCB4        202      \n",
       "SOX8          19      \n",
       "⋮           ⋮         \n",
       "MSTN          5       \n",
       "MMP16        16       \n",
       "CDX2         54       \n",
       "ADRA2C        1       \n",
       "HLA-DPA3      0       \n",
       "FAM21FP      45       \n",
       "IGKV2-23      6       \n",
       "LINC01749     0       \n",
       "LINC02018    20       \n",
       "HSD17B6      26       \n",
       "IQCH         33       \n",
       "FAM189A1      5       \n",
       "GLP1R         1       \n",
       "ARHGAP20     10       \n",
       "HSF2BP       26       \n",
       "AK8          34       \n",
       "LARP6         7       \n",
       "ASPG          4       \n",
       "EPHA10        8       \n",
       "NCMAP       117       \n",
       "KLHL32       37       \n",
       "FAM86B1      14       \n",
       "PCDHB11       1       \n",
       "LINC00189     0       \n",
       "PRKAR2A-AS1  19       \n",
       "FAM66A       25       \n",
       "FLG-AS1      11       \n",
       "CCDC13       16       \n",
       "SORD2P       31       \n",
       "LINC01229     3       "
      ]
     },
     "metadata": {},
     "output_type": "display_data"
    }
   ],
   "source": [
    "simu$counts"
   ]
  },
  {
   "cell_type": "code",
   "execution_count": 22,
   "id": "b574b46a",
   "metadata": {
    "vscode": {
     "languageId": "r"
    }
   },
   "outputs": [
    {
     "data": {
      "text/html": [
       "'double'"
      ],
      "text/latex": [
       "'double'"
      ],
      "text/markdown": [
       "'double'"
      ],
      "text/plain": [
       "[1] \"double\""
      ]
     },
     "metadata": {},
     "output_type": "display_data"
    }
   ],
   "source": [
    "typeof(simu$counts)"
   ]
  },
  {
   "cell_type": "code",
   "execution_count": 23,
   "id": "d22d23c6",
   "metadata": {
    "vscode": {
     "languageId": "r"
    }
   },
   "outputs": [
    {
     "name": "stdout",
     "output_type": "stream",
     "text": [
      "         MALE AGE      SUBTYPE\n",
      "patient1    0  29           Ph\n",
      "patient2    1  16        CRLF2\n",
      "patient3    1  38           Ph\n",
      "patient4    1  38 Hyperdiploid\n",
      "patient5    0  50        KMT2A\n",
      "patient6    1  32         DUX4\n"
     ]
    }
   ],
   "source": [
    "print(simu$metadata[1:6,])"
   ]
  },
  {
   "cell_type": "markdown",
   "id": "3abfc6fa",
   "metadata": {},
   "source": [
    "# 3 Classify samples"
   ]
  },
  {
   "cell_type": "code",
   "execution_count": 24,
   "id": "1aaa3ba9",
   "metadata": {
    "vscode": {
     "languageId": "r"
    }
   },
   "outputs": [
    {
     "name": "stdout",
     "output_type": "stream",
     "text": [
      "\n",
      "ALL subtype\n",
      "    configuration -> 164 bytes\n",
      "    categories -> 984 bytes\n",
      "    reference -> 335,109 bytes\n",
      "    covariates -> 103 bytes\n",
      "    nomenclature -> 325,618 bytes\n",
      "    centroids -> 15,212 bytes\n",
      "    coefficients -> 3,150 bytes\n",
      "\n",
      "Driver genes\n",
      "    configuration -> 165 bytes\n",
      "    categories -> 1,461 bytes\n",
      "    reference -> 333,812 bytes\n",
      "    covariates -> 102 bytes\n",
      "    nomenclature -> 324,271 bytes\n",
      "    centroids -> 22,764 bytes\n",
      "    coefficients -> 4,796 bytes\n",
      "\n",
      "Source tissue\n",
      "    configuration -> 166 bytes\n",
      "    categories -> 2,619 bytes\n",
      "    reference -> 251,540 bytes\n",
      "    covariates -> 105 bytes\n",
      "    nomenclature -> 242,601 bytes\n",
      "    centroids -> 42,622 bytes\n",
      "    coefficients -> 9,144 bytes\n"
     ]
    }
   ],
   "source": [
    "# Set up a classifier for genetic B-cell ALL subtypes.\n",
    "cls <- classifier()"
   ]
  },
  {
   "cell_type": "code",
   "execution_count": 25,
   "id": "a141b1ac",
   "metadata": {
    "vscode": {
     "languageId": "r"
    }
   },
   "outputs": [
    {
     "name": "stdout",
     "output_type": "stream",
     "text": [
      "  ASSET         TITLE COVAR\n",
      "1     1   ALL subtype  MALE\n",
      "2     1   ALL subtype   AGE\n",
      "3     2  Driver genes  MALE\n",
      "4     2  Driver genes   AGE\n",
      "5     3 Source tissue  MALE\n",
      "6     3 Source tissue   AGE\n"
     ]
    }
   ],
   "source": [
    "# List covariates.\n",
    "info <- information(cls)\n",
    "print(info$covariates[,c(\"ASSET\",\"TITLE\",\"COVAR\")])"
   ]
  },
  {
   "cell_type": "code",
   "execution_count": 26,
   "id": "8abdcfad",
   "metadata": {
    "vscode": {
     "languageId": "r"
    }
   },
   "outputs": [],
   "source": [
    "# Set covariates.\n",
    "covariates(cls) <- simu$metadata"
   ]
  },
  {
   "cell_type": "code",
   "execution_count": 27,
   "id": "e8ddf5a5",
   "metadata": {
    "vscode": {
     "languageId": "r"
    }
   },
   "outputs": [],
   "source": [
    "# Load RNA-seq profiles.\n",
    "profiles(cls) <- simu$counts"
   ]
  },
  {
   "cell_type": "code",
   "execution_count": 30,
   "id": "f75d9522",
   "metadata": {
    "vscode": {
     "languageId": "r"
    }
   },
   "outputs": [
    {
     "ename": "ERROR",
     "evalue": "Error in covariates(cls): 함수 \"covariates\"를 찾을 수 없습니다\n",
     "output_type": "error",
     "traceback": [
      "Error in covariates(cls): 함수 \"covariates\"를 찾을 수 없습니다\nTraceback:\n"
     ]
    }
   ],
   "source": [
    "covariates(cls)"
   ]
  },
  {
   "cell_type": "code",
   "execution_count": 29,
   "id": "c2093a4a",
   "metadata": {
    "vscode": {
     "languageId": "r"
    }
   },
   "outputs": [
    {
     "ename": "ERROR",
     "evalue": "Error in profiles(cls): 함수 \"profiles\"를 찾을 수 없습니다\n",
     "output_type": "error",
     "traceback": [
      "Error in profiles(cls): 함수 \"profiles\"를 찾을 수 없습니다\nTraceback:\n"
     ]
    }
   ],
   "source": [
    "profiles(cls)"
   ]
  },
  {
   "cell_type": "code",
   "execution_count": null,
   "id": "ce823ebd",
   "metadata": {
    "vscode": {
     "languageId": "r"
    }
   },
   "outputs": [
    {
     "name": "stdout",
     "output_type": "stream",
     "text": [
      "                  LABEL      FREQ      PROX      EXCL\n",
      "patient1 Ph (BCR::ABL1) 0.8345933 0.9663376 0.7782154\n",
      "patient2          CRLF2 0.8395212 0.9822259 0.8028507\n",
      "patient3 Ph (BCR::ABL1) 0.8608169 0.9809117 0.8257324\n",
      "patient4   Hyperdiploid 0.7782559 0.9539509 0.6934153\n",
      "patient5          KMT2A 0.9999825 0.9999990 0.9999638\n",
      "patient6           DUX4 0.9999841 0.9999995 0.9999990\n"
     ]
    }
   ],
   "source": [
    "# Prediction results.\n",
    "pred <- predictions(cls)\n",
    "primary <- pred[[1]]\n",
    "print(primary[1:6,c(\"LABEL\",\"FREQ\",\"PROX\",\"EXCL\")])"
   ]
  },
  {
   "cell_type": "code",
   "execution_count": null,
   "id": "eb0e173f",
   "metadata": {
    "vscode": {
     "languageId": "r"
    }
   },
   "outputs": [
    {
     "name": "stdout",
     "output_type": "stream",
     "text": [
      "                   LABEL        MATCH         FREQ       PROX       EXCL\n",
      "patient1  Ph (BCR::ABL1)           Ph 8.345933e-01 0.96633763 0.77821539\n",
      "patient2           CRLF2        CRLF2 8.395212e-01 0.98222586 0.80285071\n",
      "patient3  Ph (BCR::ABL1)           Ph 8.608169e-01 0.98091174 0.82573241\n",
      "patient4    Hyperdiploid Hyperdiploid 7.782559e-01 0.95395092 0.69341531\n",
      "patient5           KMT2A        KMT2A 9.999825e-01 0.99999897 0.99996384\n",
      "patient12      Ambiguous        CRLF2 7.437172e-01 0.96232757 0.06734542\n",
      "patient10   Unclassified          HLF 1.399599e-06 0.04537312 0.45409860\n"
     ]
    }
   ],
   "source": [
    "# Prediction results.\n",
    "ambig <- which(primary$CATEG == \"Ambiguous\")\n",
    "uncla <- which(primary$CATEG == \"Unclassified\")\n",
    "rows <- unique(c(1:5, ambig[1], uncla[1]))\n",
    "print(primary[rows,c(\"LABEL\",\"MATCH\",\"FREQ\",\"PROX\",\"EXCL\")])"
   ]
  },
  {
   "cell_type": "code",
   "execution_count": null,
   "id": "8df2ad2d",
   "metadata": {
    "vscode": {
     "languageId": "r"
    }
   },
   "outputs": [
    {
     "name": "stdout",
     "output_type": "stream",
     "text": [
      "  ASSET       TITLE      CATEG       LABEL\n",
      "1     1 ALL subtype   BCL2_MYC    BCL2/MYC\n",
      "2     1 ALL subtype  CDX2.high CDX2 hi-exp\n",
      "3     1 ALL subtype      CRLF2       CRLF2\n",
      "4     1 ALL subtype       DUX4        DUX4\n",
      "5     1 ALL subtype ETV6.RUNX1 ETV6::RUNX1\n"
     ]
    }
   ],
   "source": [
    "# Access subtype labelling information.\n",
    "info <- information(cls)\n",
    "print(info$categories[1:5,c(\"ASSET\",\"TITLE\",\"CATEG\",\"LABEL\")])"
   ]
  },
  {
   "cell_type": "code",
   "execution_count": null,
   "id": "19f8f69b",
   "metadata": {
    "vscode": {
     "languageId": "r"
    }
   },
   "outputs": [
    {
     "name": "stdout",
     "output_type": "stream",
     "text": [
      "         LABEL MATCH      FREQ     PROX      EXCL\n",
      "patient5 KMT2A KMT2A 0.9999825 0.999999 0.9999638\n"
     ]
    }
   ],
   "source": [
    "# Select successful classification.\n",
    "rows <- which((primary$CATEG != \"Ambiguous\") & (primary$FREQ > 0.9))\n",
    "print(primary[rows[1],c(\"LABEL\",\"MATCH\",\"FREQ\",\"PROX\",\"EXCL\")])"
   ]
  },
  {
   "cell_type": "code",
   "execution_count": null,
   "id": "0d219f14",
   "metadata": {
    "vscode": {
     "languageId": "r"
    }
   },
   "outputs": [
    {
     "data": {
      "image/png": "[encoded data removed]",
      "text/plain": [
       "Plot with title “NA”"
      ]
     },
     "metadata": {
      "image/png": {
       "height": 420,
       "width": 420
      }
     },
     "output_type": "display_data"
    }
   ],
   "source": [
    "# Show patient report.\n",
    "report(cls, name = rows[1], file = NULL)"
   ]
  },
  {
   "cell_type": "code",
   "execution_count": null,
   "id": "4af4eb2c",
   "metadata": {
    "vscode": {
     "languageId": "r"
    }
   },
   "outputs": [
    {
     "name": "stdout",
     "output_type": "stream",
     "text": [
      "              LABEL MATCH      FREQ      PROX       EXCL\n",
      "patient12 Ambiguous CRLF2 0.7437172 0.9623276 0.06734542\n"
     ]
    }
   ],
   "source": [
    "# Select ambiguous classification.\n",
    "rows <- which((primary$CATEG == \"Ambiguous\") & (primary$PROX > 0.9))\n",
    "print(primary[rows[1],c(\"LABEL\",\"MATCH\",\"FREQ\",\"PROX\",\"EXCL\")])"
   ]
  },
  {
   "cell_type": "code",
   "execution_count": null,
   "id": "660b7633",
   "metadata": {
    "vscode": {
     "languageId": "r"
    }
   },
   "outputs": [
    {
     "data": {
      "image/png": "[encoded data removed]",
      "text/plain": [
       "Plot with title “NA”"
      ]
     },
     "metadata": {
      "image/png": {
       "height": 420,
       "width": 420
      }
     },
     "output_type": "display_data"
    }
   ],
   "source": [
    "# Show patient report.\n",
    "report(cls, name = rows[1], file = NULL)"
   ]
  },
  {
   "cell_type": "code",
   "execution_count": null,
   "id": "4398f30f",
   "metadata": {
    "vscode": {
     "languageId": "r"
    }
   },
   "outputs": [
    {
     "name": "stdout",
     "output_type": "stream",
     "text": [
      "                 LABEL MATCH         FREQ       PROX      EXCL\n",
      "patient10 Unclassified   HLF 1.399599e-06 0.04537312 0.4540986\n"
     ]
    }
   ],
   "source": [
    "# Select poor quality samples.\n",
    "rows <- which(primary$CATEG == \"Unclassified\")\n",
    "print(primary[rows[1],c(\"LABEL\",\"MATCH\",\"FREQ\",\"PROX\",\"EXCL\")])"
   ]
  },
  {
   "cell_type": "code",
   "execution_count": null,
   "id": "7d43990b",
   "metadata": {
    "vscode": {
     "languageId": "r"
    }
   },
   "outputs": [
    {
     "data": {
      "image/png": "[encoded data removed]",
      "text/plain": [
       "Plot with title “NA”"
      ]
     },
     "metadata": {
      "image/png": {
       "height": 420,
       "width": 420
      }
     },
     "output_type": "display_data"
    }
   ],
   "source": [
    "# Show patient report.\n",
    "report(cls, name = rows[1], file = NULL)"
   ]
  },
  {
   "cell_type": "markdown",
   "id": "254540ff",
   "metadata": {},
   "source": [
    "# 4 Train new classifier"
   ]
  },
  {
   "cell_type": "code",
   "execution_count": null,
   "id": "c9e501f4",
   "metadata": {
    "vscode": {
     "languageId": "r"
    }
   },
   "outputs": [
    {
     "name": "stdout",
     "output_type": "stream",
     "text": [
      "           norm     nonzero.min   nonzero.ratio        standard       logarithm \n",
      "           1.00          100.00            0.01            1.00            1.00 \n",
      "     ninput.max     rrinput.max   proximity.min exclusivity.min \n",
      "          20.00            0.36            0.50            0.50 \n"
     ]
    }
   ],
   "source": [
    "# Create a new empty asset.\n",
    "bALL <- asset()\n",
    "print(configuration(bALL))"
   ]
  },
  {
   "cell_type": "code",
   "execution_count": null,
   "id": "f892cd8e",
   "metadata": {
    "vscode": {
     "languageId": "r"
    }
   },
   "outputs": [
    {
     "name": "stdout",
     "output_type": "stream",
     "text": [
      " ninput.max nonzero.min \n",
      "         30          90 \n"
     ]
    }
   ],
   "source": [
    "# Re-configure asset.\n",
    "configuration(bALL) <- c(ninput.max=30, nonzero.min=90)\n",
    "print(configuration(bALL)[c(\"ninput.max\",\"nonzero.min\")])"
   ]
  },
  {
   "cell_type": "code",
   "execution_count": null,
   "id": "c1aec60a",
   "metadata": {
    "vscode": {
     "languageId": "r"
    }
   },
   "outputs": [],
   "source": [
    "# Prepare asset title.\n",
    "materials <- list(title=\"Simutypes\")"
   ]
  },
  {
   "cell_type": "code",
   "execution_count": null,
   "id": "ce24b8d2",
   "metadata": {
    "vscode": {
     "languageId": "r"
    }
   },
   "outputs": [],
   "source": [
    "# Prepare RNA-seq read counts.\n",
    "materials$dat <- simu$counts"
   ]
  },
  {
   "cell_type": "code",
   "execution_count": null,
   "id": "f26cd578",
   "metadata": {
    "vscode": {
     "languageId": "r"
    }
   },
   "outputs": [],
   "source": [
    "# Prepare covariate data.\n",
    "materials$covariates <- simu$metadata[,c(\"MALE\",\"AGE\")]"
   ]
  },
  {
   "cell_type": "code",
   "execution_count": null,
   "id": "c7e76b0c",
   "metadata": {
    "vscode": {
     "languageId": "r"
    }
   },
   "outputs": [],
   "source": [
    "# Prepare subtype information.\n",
    "categ <- simu$metadata[,\"SUBTYPE\",drop=FALSE]\n",
    "rows <- which(categ != \"Contaminated\")\n",
    "materials$bits <- categ[rows,,drop=FALSE]"
   ]
  },
  {
   "cell_type": "code",
   "execution_count": null,
   "id": "69c4b952",
   "metadata": {
    "vscode": {
     "languageId": "r"
    }
   },
   "outputs": [
    {
     "name": "stderr",
     "output_type": "stream",
     "text": [
      "Warning message:\n",
      "“Asset.assemble(): 285 / 300 samples included.”\n",
      "Warning message:\n",
      "“Asset.assemble(): 15 / 17 categories included.”\n"
     ]
    }
   ],
   "source": [
    "# Assemble the classification asset.\n",
    "bALL <- asset()\n",
    "assemble(bALL) <- materials"
   ]
  },
  {
   "cell_type": "code",
   "execution_count": null,
   "id": "60323287",
   "metadata": {
    "vscode": {
     "languageId": "r"
    }
   },
   "outputs": [
    {
     "data": {
      "text/html": [
       "<style>\n",
       ".list-inline {list-style: none; margin:0; padding: 0}\n",
       ".list-inline>li {display: inline-block}\n",
       ".list-inline>li:not(:last-child)::after {content: \"\\00b7\"; padding: 0 .5ex}\n",
       "</style>\n",
       "<ol class=list-inline><li>'/tmp/Rtmp5GF1OZ/file7c8a4842c5b1/configuration.txt'</li><li>'/tmp/Rtmp5GF1OZ/file7c8a4842c5b1/categories.txt'</li><li>'/tmp/Rtmp5GF1OZ/file7c8a4842c5b1/reference.txt'</li><li>'/tmp/Rtmp5GF1OZ/file7c8a4842c5b1/covariates.txt'</li><li>'/tmp/Rtmp5GF1OZ/file7c8a4842c5b1/centroids.txt'</li><li>'/tmp/Rtmp5GF1OZ/file7c8a4842c5b1/coefficients.txt'</li></ol>\n"
      ],
      "text/latex": [
       "\\begin{enumerate*}\n",
       "\\item '/tmp/Rtmp5GF1OZ/file7c8a4842c5b1/configuration.txt'\n",
       "\\item '/tmp/Rtmp5GF1OZ/file7c8a4842c5b1/categories.txt'\n",
       "\\item '/tmp/Rtmp5GF1OZ/file7c8a4842c5b1/reference.txt'\n",
       "\\item '/tmp/Rtmp5GF1OZ/file7c8a4842c5b1/covariates.txt'\n",
       "\\item '/tmp/Rtmp5GF1OZ/file7c8a4842c5b1/centroids.txt'\n",
       "\\item '/tmp/Rtmp5GF1OZ/file7c8a4842c5b1/coefficients.txt'\n",
       "\\end{enumerate*}\n"
      ],
      "text/markdown": [
       "1. '/tmp/Rtmp5GF1OZ/file7c8a4842c5b1/configuration.txt'\n",
       "2. '/tmp/Rtmp5GF1OZ/file7c8a4842c5b1/categories.txt'\n",
       "3. '/tmp/Rtmp5GF1OZ/file7c8a4842c5b1/reference.txt'\n",
       "4. '/tmp/Rtmp5GF1OZ/file7c8a4842c5b1/covariates.txt'\n",
       "5. '/tmp/Rtmp5GF1OZ/file7c8a4842c5b1/centroids.txt'\n",
       "6. '/tmp/Rtmp5GF1OZ/file7c8a4842c5b1/coefficients.txt'\n",
       "\n",
       "\n"
      ],
      "text/plain": [
       "[1] \"/tmp/Rtmp5GF1OZ/file7c8a4842c5b1/configuration.txt\"\n",
       "[2] \"/tmp/Rtmp5GF1OZ/file7c8a4842c5b1/categories.txt\"   \n",
       "[3] \"/tmp/Rtmp5GF1OZ/file7c8a4842c5b1/reference.txt\"    \n",
       "[4] \"/tmp/Rtmp5GF1OZ/file7c8a4842c5b1/covariates.txt\"   \n",
       "[5] \"/tmp/Rtmp5GF1OZ/file7c8a4842c5b1/centroids.txt\"    \n",
       "[6] \"/tmp/Rtmp5GF1OZ/file7c8a4842c5b1/coefficients.txt\" "
      ]
     },
     "metadata": {},
     "output_type": "display_data"
    }
   ],
   "source": [
    "# Save asset to disk.\n",
    "tpath <- tempfile()\n",
    "export(bALL, folder = tpath)"
   ]
  },
  {
   "cell_type": "code",
   "execution_count": null,
   "id": "dc579832",
   "metadata": {
    "vscode": {
     "languageId": "r"
    }
   },
   "outputs": [
    {
     "name": "stdout",
     "output_type": "stream",
     "text": [
      "\n",
      "Simutypes\n",
      "    configuration -> 162 bytes\n",
      "    categories -> 917 bytes\n",
      "    reference -> 296,787 bytes\n",
      "    covariates -> 100 bytes\n",
      "    centroids -> 5,689 bytes\n",
      "    coefficients -> 2,634 bytes\n"
     ]
    }
   ],
   "source": [
    "# Create a classifier.\n",
    "clstest <- classifier(tpath)"
   ]
  },
  {
   "cell_type": "code",
   "execution_count": null,
   "id": "af5453df",
   "metadata": {
    "vscode": {
     "languageId": "r"
    }
   },
   "outputs": [
    {
     "name": "stdout",
     "output_type": "stream",
     "text": [
      "                LABEL        MATCH       FREQ      PROX      EXCL\n",
      "patient1 Hyperdiploid Hyperdiploid 0.99613741 0.9988342 0.9922202\n",
      "patient2       ZNF384       ZNF384 0.75765125 0.9635201 0.9971424\n",
      "patient3           Ph           Ph 0.98802180 0.9960324 0.9695616\n",
      "patient4     PAX5.alt     PAX5.alt 0.80800074 0.9522776 0.7908791\n",
      "patient5 Unclassified          HLF 0.01168633 0.4138652 0.2486635\n"
     ]
    }
   ],
   "source": [
    "# Classify samples.\n",
    "simutest <- bcellALL(5)\n",
    "covariates(clstest) <- simutest$metadata\n",
    "profiles(clstest) <- simutest$counts\n",
    "primtest <- predictions(clstest)[[1]]\n",
    "print(primtest[,c(\"LABEL\",\"MATCH\",\"FREQ\",\"PROX\",\"EXCL\")])"
   ]
  },
  {
   "cell_type": "code",
   "execution_count": null,
   "id": "1b158460",
   "metadata": {
    "vscode": {
     "languageId": "r"
    }
   },
   "outputs": [
    {
     "name": "stdout",
     "output_type": "stream",
     "text": [
      "         MALE AGE      SUBTYPE\n",
      "patient1    1  30 Hyperdiploid\n",
      "patient2    1  23       ZNF384\n",
      "patient3    1  45           Ph\n",
      "patient4    1  44     PAX5.alt\n",
      "patient5    1  28     BCL2_MYC\n"
     ]
    }
   ],
   "source": [
    "# Show correct subtypes.\n",
    "print(simutest$metadata)"
   ]
  },
  {
   "cell_type": "code",
   "execution_count": null,
   "id": "1bc186b2",
   "metadata": {
    "vscode": {
     "languageId": "r"
    }
   },
   "outputs": [
    {
     "name": "stdout",
     "output_type": "stream",
     "text": [
      "  Sepal.Length Sepal.Width Petal.Length Petal.Width Species\n",
      "1          5.1         3.5          1.4         0.2  setosa\n",
      "2          4.9         3.0          1.4         0.2  setosa\n",
      "3          4.7         3.2          1.3         0.2  setosa\n",
      "4          4.6         3.1          1.5         0.2  setosa\n",
      "5          5.0         3.6          1.4         0.2  setosa\n",
      "6          5.4         3.9          1.7         0.4  setosa\n"
     ]
    }
   ],
   "source": [
    "# Iris flower dataset.\n",
    "print(head(iris))"
   ]
  },
  {
   "cell_type": "code",
   "execution_count": null,
   "id": "0a0006f6",
   "metadata": {
    "vscode": {
     "languageId": "r"
    }
   },
   "outputs": [
    {
     "name": "stdout",
     "output_type": "stream",
     "text": [
      "          Sepal.Length Sepal.Width Petal.Length Petal.Width    Species\n",
      "flower1            5.1         3.5          1.4         0.2     setosa\n",
      "flower80           5.7         2.6          3.5         1.0 versicolor\n",
      "flower150          5.9         3.0          5.1         1.8  virginica\n"
     ]
    }
   ],
   "source": [
    "# Set row names.\n",
    "flowers <- iris\n",
    "rownames(flowers) <- paste0(\"flower\", 1:nrow(flowers))\n",
    "print(flowers[c(1,80,150),])"
   ]
  },
  {
   "cell_type": "code",
   "execution_count": null,
   "id": "5491fc70",
   "metadata": {
    "vscode": {
     "languageId": "r"
    }
   },
   "outputs": [],
   "source": [
    "# Prepare training set.\n",
    "materials <- list(title=\"Iris species\")\n",
    "materials$dat <- t(flowers[,1:4]) # vars on rows, samples on columns\n",
    "materials$bits <- flowers[,\"Species\",drop=FALSE]"
   ]
  },
  {
   "cell_type": "code",
   "execution_count": null,
   "id": "9c51625d",
   "metadata": {
    "vscode": {
     "languageId": "r"
    }
   },
   "outputs": [],
   "source": [
    "# Set human-readable category labels.\n",
    "model <- asset()\n",
    "labels <- c(\"Iris Setosa\", \"Iris Virginica\", \"Iris Versicolor\")\n",
    "names(labels) <- c(\"setosa\", \"virginica\", \"versicolor\")\n",
    "visuals(model) <- labels"
   ]
  },
  {
   "cell_type": "code",
   "execution_count": null,
   "id": "daae0eab",
   "metadata": {
    "vscode": {
     "languageId": "r"
    }
   },
   "outputs": [
    {
     "name": "stdout",
     "output_type": "stream",
     "text": [
      "           norm     nonzero.min   nonzero.ratio        standard       logarithm \n",
      "           0.00            0.00            0.00            1.00            0.00 \n",
      "     ninput.max     rrinput.max   proximity.min exclusivity.min \n",
      "          20.00            0.36            0.50            0.50 \n"
     ]
    }
   ],
   "source": [
    "# Configure a new asset.\n",
    "configuration(model) <- c(norm=FALSE, logarithm=FALSE)\n",
    "configuration(model) <- c(nonzero.min=0, nonzero.ratio=0)\n",
    "print(configuration(model))"
   ]
  },
  {
   "cell_type": "code",
   "execution_count": null,
   "id": "7f3e7530",
   "metadata": {
    "vscode": {
     "languageId": "r"
    }
   },
   "outputs": [
    {
     "data": {
      "text/html": [
       "<style>\n",
       ".list-inline {list-style: none; margin:0; padding: 0}\n",
       ".list-inline>li {display: inline-block}\n",
       ".list-inline>li:not(:last-child)::after {content: \"\\00b7\"; padding: 0 .5ex}\n",
       "</style>\n",
       "<ol class=list-inline><li>'/tmp/Rtmp5GF1OZ/file7c8a166ff8f4/configuration.txt'</li><li>'/tmp/Rtmp5GF1OZ/file7c8a166ff8f4/categories.txt'</li><li>'/tmp/Rtmp5GF1OZ/file7c8a166ff8f4/reference.txt'</li><li>'/tmp/Rtmp5GF1OZ/file7c8a166ff8f4/centroids.txt'</li><li>'/tmp/Rtmp5GF1OZ/file7c8a166ff8f4/coefficients.txt'</li></ol>\n"
      ],
      "text/latex": [
       "\\begin{enumerate*}\n",
       "\\item '/tmp/Rtmp5GF1OZ/file7c8a166ff8f4/configuration.txt'\n",
       "\\item '/tmp/Rtmp5GF1OZ/file7c8a166ff8f4/categories.txt'\n",
       "\\item '/tmp/Rtmp5GF1OZ/file7c8a166ff8f4/reference.txt'\n",
       "\\item '/tmp/Rtmp5GF1OZ/file7c8a166ff8f4/centroids.txt'\n",
       "\\item '/tmp/Rtmp5GF1OZ/file7c8a166ff8f4/coefficients.txt'\n",
       "\\end{enumerate*}\n"
      ],
      "text/markdown": [
       "1. '/tmp/Rtmp5GF1OZ/file7c8a166ff8f4/configuration.txt'\n",
       "2. '/tmp/Rtmp5GF1OZ/file7c8a166ff8f4/categories.txt'\n",
       "3. '/tmp/Rtmp5GF1OZ/file7c8a166ff8f4/reference.txt'\n",
       "4. '/tmp/Rtmp5GF1OZ/file7c8a166ff8f4/centroids.txt'\n",
       "5. '/tmp/Rtmp5GF1OZ/file7c8a166ff8f4/coefficients.txt'\n",
       "\n",
       "\n"
      ],
      "text/plain": [
       "[1] \"/tmp/Rtmp5GF1OZ/file7c8a166ff8f4/configuration.txt\"\n",
       "[2] \"/tmp/Rtmp5GF1OZ/file7c8a166ff8f4/categories.txt\"   \n",
       "[3] \"/tmp/Rtmp5GF1OZ/file7c8a166ff8f4/reference.txt\"    \n",
       "[4] \"/tmp/Rtmp5GF1OZ/file7c8a166ff8f4/centroids.txt\"    \n",
       "[5] \"/tmp/Rtmp5GF1OZ/file7c8a166ff8f4/coefficients.txt\" "
      ]
     },
     "metadata": {},
     "output_type": "display_data"
    }
   ],
   "source": [
    "# Assemble the classification asset.\n",
    "assemble(model) <- materials\n",
    "tpath <- tempfile()\n",
    "export(model, folder = tpath)"
   ]
  },
  {
   "cell_type": "code",
   "execution_count": null,
   "id": "d1b1d5db",
   "metadata": {
    "vscode": {
     "languageId": "r"
    }
   },
   "outputs": [
    {
     "name": "stdout",
     "output_type": "stream",
     "text": [
      "\n",
      "Iris species\n",
      "    configuration -> 160 bytes\n",
      "    categories -> 296 bytes\n",
      "    reference -> 264 bytes\n",
      "    centroids -> 298 bytes\n",
      "    coefficients -> 313 bytes\n"
     ]
    }
   ],
   "source": [
    "# Classify samples.\n",
    "clsiris <- classifier(tpath)"
   ]
  },
  {
   "cell_type": "code",
   "execution_count": null,
   "id": "d952175a",
   "metadata": {
    "vscode": {
     "languageId": "r"
    }
   },
   "outputs": [
    {
     "name": "stdout",
     "output_type": "stream",
     "text": [
      "                    LABEL      MATCH      PROX       EXCL\n",
      "flower1       Iris Setosa     setosa 1.0000000 1.00000000\n",
      "flower80  Iris Versicolor versicolor 0.8865029 0.93122851\n",
      "flower150       Ambiguous versicolor 0.8274222 0.04401169\n"
     ]
    }
   ],
   "source": [
    "profiles(clsiris) <- t(flowers[,1:4])\n",
    "iristest <- predictions(clsiris)[[1]]\n",
    "print(iristest[c(1,80,150),c(\"LABEL\",\"MATCH\",\"PROX\",\"EXCL\")])"
   ]
  },
  {
   "cell_type": "code",
   "execution_count": null,
   "id": "97226bcb",
   "metadata": {
    "vscode": {
     "languageId": "r"
    }
   },
   "outputs": [
    {
     "name": "stdout",
     "output_type": "stream",
     "text": [
      "                 \n",
      "                  setosa versicolor virginica\n",
      "  Ambiguous            0         11        16\n",
      "  Iris Setosa         49          0         0\n",
      "  Iris Versicolor      0         33         1\n",
      "  Iris Virginica       0          3        29\n",
      "  Unclassified         1          3         4\n"
     ]
    }
   ],
   "source": [
    "# Summary of results.\n",
    "print(table(iristest$LABEL, flowers$Species))"
   ]
  },
  {
   "cell_type": "code",
   "execution_count": null,
   "id": "ea42f35f",
   "metadata": {
    "vscode": {
     "languageId": "r"
    }
   },
   "outputs": [
    {
     "name": "stdout",
     "output_type": "stream",
     "text": [
      "\n",
      "ALL subtype\n",
      "    configuration -> 164 bytes\n",
      "    categories -> 984 bytes\n",
      "    reference -> 335,109 bytes\n",
      "    covariates -> 103 bytes\n",
      "    nomenclature -> 325,618 bytes\n",
      "    centroids -> 15,212 bytes\n",
      "    coefficients -> 3,150 bytes\n",
      "\n",
      "Driver genes\n",
      "    configuration -> 165 bytes\n",
      "    categories -> 1,461 bytes\n",
      "    reference -> 333,812 bytes\n",
      "    covariates -> 102 bytes\n",
      "    nomenclature -> 324,271 bytes\n",
      "    centroids -> 22,764 bytes\n",
      "    coefficients -> 4,796 bytes\n",
      "\n",
      "Source tissue\n",
      "    configuration -> 166 bytes\n",
      "    categories -> 2,619 bytes\n",
      "    reference -> 251,540 bytes\n",
      "    covariates -> 105 bytes\n",
      "    nomenclature -> 242,601 bytes\n",
      "    centroids -> 42,622 bytes\n",
      "    coefficients -> 9,144 bytes\n"
     ]
    }
   ],
   "source": [
    "# Default ALL classifier.\n",
    "cls <- classifier()"
   ]
  },
  {
   "cell_type": "code",
   "execution_count": null,
   "id": "5516bc49",
   "metadata": {
    "vscode": {
     "languageId": "r"
    }
   },
   "outputs": [
    {
     "name": "stdout",
     "output_type": "stream",
     "text": [
      "              LABEL        CATEG        MATCH MATCH.2nd\n",
      "patient1 B-cell ALL       iAMP21       iAMP21   ETP.ALL\n",
      "patient2 B-cell ALL    PAX5.p80r    PAX5.p80r   ETP.ALL\n",
      "patient3 B-cell ALL Hyperdiploid Hyperdiploid   ETP.ALL\n",
      "patient4 B-cell ALL        KMT2A        KMT2A   ETP.ALL\n",
      "patient5 B-cell ALL       ZNF384       ZNF384   ETP.ALL\n"
     ]
    }
   ],
   "source": [
    "# Predict source tissue.\n",
    "simu <- bcellALL(5)\n",
    "covariates(cls) <- simu$metadata\n",
    "profiles(cls) <- simu$counts\n",
    "tissues <- predictions(cls)[[3]]\n",
    "print(tissues[,c(\"LABEL\",\"CATEG\",\"MATCH\",\"MATCH.2nd\")])"
   ]
  },
  {
   "cell_type": "code",
   "execution_count": null,
   "id": "f8243026",
   "metadata": {
    "vscode": {
     "languageId": "r"
    }
   },
   "outputs": [
    {
     "name": "stdout",
     "output_type": "stream",
     "text": [
      "[1] \"categories.txt\"    \"centroids.txt\"     \"coefficients.txt\" \n",
      "[4] \"configuration.txt\" \"covariates.txt\"    \"nomenclature.txt\" \n",
      "[7] \"reference.txt\"    \n"
     ]
    }
   ],
   "source": [
    "# Show asset contents.\n",
    "base <- system.file(package = \"Allspice\")\n",
    "folder <- file.path(base, \"subtypes\")\n",
    "print(dir(folder))"
   ]
  },
  {
   "cell_type": "code",
   "execution_count": null,
   "id": "ea34fd80",
   "metadata": {
    "vscode": {
     "languageId": "r"
    }
   },
   "outputs": [
    {
     "name": "stdout",
     "output_type": "stream",
     "text": [
      "          CATEG          LABEL     COLOR COLOR.light COLOR.dark\n",
      "1      BCL2_MYC       BCL2/MYC #FF47BDFF   #FF67DEFF  #E52092FF\n",
      "2     CDX2.high    CDX2 hi-exp #FF458CFF   #FF65ABFF  #E61F66FF\n",
      "3         CRLF2          CRLF2 #FF435BFF   #FF6278FF  #E71D39FF\n",
      "4          DUX4           DUX4 #FF4531FF   #FF644BFF  #E81F13FF\n",
      "5    ETV6.RUNX1    ETV6::RUNX1 #FF5A28FF   #FF7D3FFF  #E62F0FFF\n",
      "6           HLF            HLF #FF701FFF   #FF9633FF  #E43F0AFF\n",
      "7  Hyperdiploid   Hyperdiploid #FA8816FF   #FDAE27FF  #DC5306FF\n",
      "8   Hypodiploid    Hypodiploid #ECA60DFF   #F8C71AFF  #C96F04FF\n",
      "9        iAMP21         iAMP21 #DEC304FF   #F2E00EFF  #B58B01FF\n",
      "10  IKZF1.n159y    IKZF1 N159Y #BDD708FF   #D7EF13FF  #93A003FF\n",
      "11        KMT2A          KMT2A #8AE218FF   #A7F529FF  #62AE09FF\n",
      "12        MEF2D          MEF2D #57EC28FF   #76FA3FFF  #31BC0FFF\n",
      "13        NUTM1          NUTM1 #38E455FF   #53F56EFF  #19B536FF\n",
      "14     PAX5.alt      PAX5 alt. #23D390FF   #37EBA9FF  #0EA26FFF\n",
      "15    PAX5.p80r      PAX5 P80R #0EC1CBFF   #1BE1E5FF  #0490A7FF\n",
      "16           Ph Ph (BCR::ABL1) #11ACE1FF   #20D0F3FF  #057CC2FF\n",
      "17    TCF3.PBX1     TCF3::PBX1 #1A97F0FF   #2DBDF9FF  #0867D6FF\n",
      "18       ZNF384         ZNF384 #2382FFFF   #39AAFFFF  #0C52EBFF\n",
      "19 Unclassified   Unclassified   #888888     #b0b0b0    #404040\n",
      "20    Ambiguous      Ambiguous   #888888     #b0b0b0    #404040\n"
     ]
    }
   ],
   "source": [
    "# Category information.\n",
    "dat <- read.delim(file.path(folder, \"categories.txt\"))\n",
    "print(dat)"
   ]
  },
  {
   "cell_type": "code",
   "execution_count": null,
   "id": "acf0015e",
   "metadata": {
    "vscode": {
     "languageId": "r"
    }
   },
   "outputs": [
    {
     "name": "stdout",
     "output_type": "stream",
     "text": [
      "    VAR   BCL2_MYC  CDX2.high      CRLF2       DUX4  ETV6.RUNX1\n",
      "1  ECM1 -1.9095584 -1.0748369  0.7287777 -1.6451050 -0.05751595\n",
      "2 BLACE -1.3574988  1.2108680  0.6666349 -1.2295764  0.95779820\n",
      "3 TLCD5 -0.3661578  0.7708041 -0.9685241 -0.1494769  1.02470977\n",
      "4 LAMP5  0.4649308  1.7377117 -0.5733545 -0.6326059 -0.39430971\n",
      "5  MSR1 -0.1674287 -0.4227465  0.6468574 -0.5413887  1.13215593\n"
     ]
    }
   ],
   "source": [
    "# Standardized subtype profiles.\n",
    "dat <- read.delim(file.path(folder, \"centroids.txt\"))\n",
    "print(dat[1:5,1:6])"
   ]
  },
  {
   "cell_type": "code",
   "execution_count": null,
   "id": "424db3c3",
   "metadata": {
    "vscode": {
     "languageId": "r"
    }
   },
   "outputs": [
    {
     "name": "stdout",
     "output_type": "stream",
     "text": [
      "45 genes, 19 subtypes\n"
     ]
    }
   ],
   "source": [
    "cat(nrow(dat), \" genes, \", ncol(dat), \" subtypes\\n\", sep=\"\")"
   ]
  },
  {
   "cell_type": "code",
   "execution_count": null,
   "id": "7b2fb04b",
   "metadata": {
    "vscode": {
     "languageId": "r"
    }
   },
   "outputs": [
    {
     "name": "stdout",
     "output_type": "stream",
     "text": [
      "       CATEG MODEL       B0         B1        MALE          AGE\n",
      "1   BCL2_MYC  prox 3.064665  -3.595771  0.77379400  0.016175736\n",
      "2  CDX2.high  prox 3.485221  -3.269696 -0.22647536  0.010483364\n",
      "3      CRLF2  prox 5.260858  -5.806218  0.05525811 -0.002315856\n",
      "4       DUX4  prox 9.801335 -10.059634  0.55972167  0.014370814\n",
      "5 ETV6.RUNX1  prox 9.608542 -10.214113  0.00285044  0.001060682\n"
     ]
    }
   ],
   "source": [
    "# Regression coefficients.\n",
    "dat <- read.delim(file.path(folder, \"coefficients.txt\"))\n",
    "print(dat[1:5,])"
   ]
  },
  {
   "cell_type": "code",
   "execution_count": null,
   "id": "0d9981ba",
   "metadata": {
    "vscode": {
     "languageId": "r"
    }
   },
   "outputs": [
    {
     "name": "stdout",
     "output_type": "stream",
     "text": [
      "             PARAM       VALUE\n",
      "1            title ALL subtype\n",
      "2             norm           1\n",
      "3      nonzero.min         100\n",
      "4    nonzero.ratio        0.01\n",
      "5         standard           1\n",
      "6        logarithm           1\n",
      "7       ninput.max          45\n",
      "8      rrinput.max        0.36\n",
      "9    proximity.min         0.5\n",
      "10 exclusivity.min         0.5\n"
     ]
    }
   ],
   "source": [
    "# Asset settings.\n",
    "dat <- read.delim(file.path(folder, \"configuration.txt\"))\n",
    "print(dat)"
   ]
  },
  {
   "cell_type": "code",
   "execution_count": null,
   "id": "b9220401",
   "metadata": {
    "vscode": {
     "languageId": "r"
    }
   },
   "outputs": [
    {
     "name": "stdout",
     "output_type": "stream",
     "text": [
      "   VAR    N       MEAN         SD\n",
      "1 MALE 1598  0.5663329  0.4957355\n",
      "2  AGE 1598 23.8858573 21.8311919\n"
     ]
    }
   ],
   "source": [
    "# Covariate statistics.\n",
    "dat <- read.delim(file.path(folder, \"covariates.txt\"))\n",
    "print(dat)"
   ]
  },
  {
   "cell_type": "code",
   "execution_count": null,
   "id": "ee81a362",
   "metadata": {
    "vscode": {
     "languageId": "r"
    }
   },
   "outputs": [
    {
     "name": "stdout",
     "output_type": "stream",
     "text": [
      "     VAR         ENSEMBL                                               NAME\n",
      "1   NFYA ENSG00000001167       nuclear transcription factor Y subunit alpha\n",
      "2  STPG1 ENSG00000001460             sperm tail PG-rich repeat containing 1\n",
      "3  ENPP4 ENSG00000001561 ectonucleotide pyrophosphatase/phosphodiesterase 4\n",
      "4 SEMA3F ENSG00000001617                                      semaphorin 3F\n",
      "5   LAP3 ENSG00000002549                           leucine aminopeptidase 3\n"
     ]
    }
   ],
   "source": [
    "# Gene names.\n",
    "dat <- read.delim(file.path(folder, \"nomenclature.txt\"))\n",
    "print(dat[1:5,])"
   ]
  },
  {
   "cell_type": "code",
   "execution_count": null,
   "id": "d9b12a9e",
   "metadata": {
    "vscode": {
     "languageId": "r"
    }
   },
   "outputs": [
    {
     "name": "stdout",
     "output_type": "stream",
     "text": [
      "     VAR      VALUE      MEAN        SD\n",
      "1   NFYA 3008.89811 11.553176 0.6311673\n",
      "2  STPG1   85.36011  6.448873 1.2261105\n",
      "3  ENPP4  129.59267  7.040705 2.0602850\n",
      "4 SEMA3F  250.56749  7.989175 2.4749987\n",
      "5   LAP3 1985.87372 10.948414 0.7149522\n"
     ]
    }
   ],
   "source": [
    "# RNA reference profile.\n",
    "dat <- read.delim(file.path(folder, \"reference.txt\"))\n",
    "print(dat[1:5,])"
   ]
  },
  {
   "cell_type": "code",
   "execution_count": null,
   "id": "9d547360",
   "metadata": {
    "vscode": {
     "languageId": "r"
    }
   },
   "outputs": [
    {
     "name": "stdout",
     "output_type": "stream",
     "text": [
      "5808 genes\n"
     ]
    }
   ],
   "source": [
    "cat(nrow(dat), \" genes\\n\", sep=\"\")"
   ]
  },
  {
   "cell_type": "markdown",
   "id": "1d323446",
   "metadata": {},
   "source": [
    "# 5 Build information"
   ]
  },
  {
   "cell_type": "code",
   "execution_count": null,
   "id": "8c8f5d55",
   "metadata": {
    "vscode": {
     "languageId": "r"
    }
   },
   "outputs": [],
   "source": [
    "## R version 4.2.2 Patched (2022-11-10 r83330)\n",
    "## Platform: x86_64-pc-linux-gnu (64-bit)\n",
    "## Running under: Ubuntu 20.04.5 LTS\n",
    "## \n",
    "## Matrix products: default\n",
    "## BLAS:   /usr/lib/x86_64-linux-gnu/blas/libblas.so.3.9.0\n",
    "## LAPACK: /usr/lib/x86_64-linux-gnu/lapack/liblapack.so.3.9.0\n",
    "## \n",
    "## locale:\n",
    "##  [1] LC_CTYPE=en_AU.UTF-8       LC_NUMERIC=C              \n",
    "##  [3] LC_TIME=en_AU.UTF-8        LC_COLLATE=C              \n",
    "##  [5] LC_MONETARY=en_AU.UTF-8    LC_MESSAGES=en_AU.UTF-8   \n",
    "##  [7] LC_PAPER=en_AU.UTF-8       LC_NAME=C                 \n",
    "##  [9] LC_ADDRESS=C               LC_TELEPHONE=C            \n",
    "## [11] LC_MEASUREMENT=en_AU.UTF-8 LC_IDENTIFICATION=C       \n",
    "## \n",
    "## attached base packages:\n",
    "## [1] stats     graphics  grDevices utils     datasets  methods   base     \n",
    "## \n",
    "## other attached packages:\n",
    "## [1] Allspice_1.0.7\n",
    "## \n",
    "## loaded via a namespace (and not attached):\n",
    "##  [1] digest_0.6.30   R6_2.5.1        lifecycle_1.0.3 jsonlite_1.8.4 \n",
    "##  [5] magrittr_2.0.3  evaluate_0.18   highr_0.9       stringi_1.7.8  \n",
    "##  [9] rlang_1.0.6     cachem_1.0.6    cli_3.4.1       jquerylib_0.1.4\n",
    "## [13] bslib_0.4.1     vctrs_0.5.1     rmarkdown_2.18  tools_4.2.2    \n",
    "## [17] stringr_1.5.0   glue_1.6.2      xfun_0.35       yaml_2.3.6     \n",
    "## [21] fastmap_1.1.0   compiler_4.2.2  htmltools_0.5.4 knitr_1.41     \n",
    "## [25] sass_0.4.4"
   ]
  },
  {
   "cell_type": "code",
   "execution_count": null,
   "id": "89a98a83",
   "metadata": {
    "vscode": {
     "languageId": "r"
    }
   },
   "outputs": [],
   "source": [
    "## [1] \"2023-01-20 13:40:56 ACDT\""
   ]
  },
  {
   "cell_type": "code",
   "execution_count": null,
   "id": "14af4d03",
   "metadata": {
    "vscode": {
     "languageId": "r"
    }
   },
   "outputs": [],
   "source": []
  }
 ],
 "metadata": {
  "kernelspec": {
   "display_name": "R",
   "language": "R",
   "name": "ir"
  },
  "language_info": {
   "codemirror_mode": "r",
   "file_extension": ".r",
   "mimetype": "text/x-r-source",
   "name": "R",
   "pygments_lexer": "r",
   "version": "4.3.3"
  }
 },
 "nbformat": 4,
 "nbformat_minor": 5
}
